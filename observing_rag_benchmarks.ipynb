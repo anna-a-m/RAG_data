{
 "cells": [
  {
   "cell_type": "markdown",
   "id": "32458e0c",
   "metadata": {},
   "source": [
    "## CRAG data"
   ]
  },
  {
   "cell_type": "code",
   "execution_count": 1,
   "id": "9b1e86c1",
   "metadata": {},
   "outputs": [
    {
     "name": "stderr",
     "output_type": "stream",
     "text": [
      "C:\\Users\\anna-\\AppData\\Local\\Temp\\ipykernel_11352\\1028401994.py:3: FutureWarning: Parsed string \"02/28/2024, 10:04:54 PT\" included an un-recognized timezone \"PT\". Dropping unrecognized timezones is deprecated; in a future version this will raise. Instead pass the string without the timezone, then use .tz_localize to convert to a recognized timezone.\n",
      "  crag = pd.read_json(path_or_buf='dev_data.jsonl', lines=True)\n",
      "C:\\Users\\anna-\\AppData\\Local\\Temp\\ipykernel_11352\\1028401994.py:3: FutureWarning: Parsed string \"03/05/2024, 23:18:31 PT\" included an un-recognized timezone \"PT\". Dropping unrecognized timezones is deprecated; in a future version this will raise. Instead pass the string without the timezone, then use .tz_localize to convert to a recognized timezone.\n",
      "  crag = pd.read_json(path_or_buf='dev_data.jsonl', lines=True)\n",
      "C:\\Users\\anna-\\AppData\\Local\\Temp\\ipykernel_11352\\1028401994.py:3: FutureWarning: Parsed string \"03/13/2024, 08:29:31 PT\" included an un-recognized timezone \"PT\". Dropping unrecognized timezones is deprecated; in a future version this will raise. Instead pass the string without the timezone, then use .tz_localize to convert to a recognized timezone.\n",
      "  crag = pd.read_json(path_or_buf='dev_data.jsonl', lines=True)\n",
      "C:\\Users\\anna-\\AppData\\Local\\Temp\\ipykernel_11352\\1028401994.py:3: FutureWarning: Parsed string \"03/19/2024, 23:28:32 PT\" included an un-recognized timezone \"PT\". Dropping unrecognized timezones is deprecated; in a future version this will raise. Instead pass the string without the timezone, then use .tz_localize to convert to a recognized timezone.\n",
      "  crag = pd.read_json(path_or_buf='dev_data.jsonl', lines=True)\n",
      "C:\\Users\\anna-\\AppData\\Local\\Temp\\ipykernel_11352\\1028401994.py:3: FutureWarning: Parsed string \"03/13/2024, 09:30:59 PT\" included an un-recognized timezone \"PT\". Dropping unrecognized timezones is deprecated; in a future version this will raise. Instead pass the string without the timezone, then use .tz_localize to convert to a recognized timezone.\n",
      "  crag = pd.read_json(path_or_buf='dev_data.jsonl', lines=True)\n",
      "C:\\Users\\anna-\\AppData\\Local\\Temp\\ipykernel_11352\\1028401994.py:3: FutureWarning: Parsed string \"03/13/2024, 08:56:12 PT\" included an un-recognized timezone \"PT\". Dropping unrecognized timezones is deprecated; in a future version this will raise. Instead pass the string without the timezone, then use .tz_localize to convert to a recognized timezone.\n",
      "  crag = pd.read_json(path_or_buf='dev_data.jsonl', lines=True)\n",
      "C:\\Users\\anna-\\AppData\\Local\\Temp\\ipykernel_11352\\1028401994.py:3: FutureWarning: Parsed string \"02/26/2024, 23:52:36 PT\" included an un-recognized timezone \"PT\". Dropping unrecognized timezones is deprecated; in a future version this will raise. Instead pass the string without the timezone, then use .tz_localize to convert to a recognized timezone.\n",
      "  crag = pd.read_json(path_or_buf='dev_data.jsonl', lines=True)\n",
      "C:\\Users\\anna-\\AppData\\Local\\Temp\\ipykernel_11352\\1028401994.py:3: FutureWarning: Parsed string \"02/28/2024, 08:35:24 PT\" included an un-recognized timezone \"PT\". Dropping unrecognized timezones is deprecated; in a future version this will raise. Instead pass the string without the timezone, then use .tz_localize to convert to a recognized timezone.\n",
      "  crag = pd.read_json(path_or_buf='dev_data.jsonl', lines=True)\n",
      "C:\\Users\\anna-\\AppData\\Local\\Temp\\ipykernel_11352\\1028401994.py:3: FutureWarning: Parsed string \"03/13/2024, 10:39:22 PT\" included an un-recognized timezone \"PT\". Dropping unrecognized timezones is deprecated; in a future version this will raise. Instead pass the string without the timezone, then use .tz_localize to convert to a recognized timezone.\n",
      "  crag = pd.read_json(path_or_buf='dev_data.jsonl', lines=True)\n",
      "C:\\Users\\anna-\\AppData\\Local\\Temp\\ipykernel_11352\\1028401994.py:3: FutureWarning: Parsed string \"03/10/2024, 23:34:42 PT\" included an un-recognized timezone \"PT\". Dropping unrecognized timezones is deprecated; in a future version this will raise. Instead pass the string without the timezone, then use .tz_localize to convert to a recognized timezone.\n",
      "  crag = pd.read_json(path_or_buf='dev_data.jsonl', lines=True)\n"
     ]
    }
   ],
   "source": [
    "import pandas as pd    \n",
    "\n",
    "crag = pd.read_json(path_or_buf='dev_data.jsonl', lines=True)"
   ]
  },
  {
   "cell_type": "code",
   "execution_count": 11,
   "id": "e143b2bb",
   "metadata": {},
   "outputs": [
    {
     "data": {
      "text/plain": [
       "array(['is microsoft office 2019 available in a greater number of languages than microsoft office 2013?',\n",
       "       'what company in the dow jones is the best performer today?',\n",
       "       'name three celebrities who have been involved in successful collaborations with beauty brands.',\n",
       "       'what is the other language between heaven and hell came out in originally?',\n",
       "       'how many times has rory mcilroy won the masters tournament?',\n",
       "       'which companies have the highest level of dividend yield?',\n",
       "       'what is the shortest highway in the us in feet?',\n",
       "       'which company have larger market cap, plya or seatw?',\n",
       "       'who was the first actor to play the role of a comic book villain in a live-action movie?',\n",
       "       'is dreamworks animation owned by time warner or universal pictures?'],\n",
       "      dtype=object)"
      ]
     },
     "execution_count": 11,
     "metadata": {},
     "output_type": "execute_result"
    }
   ],
   "source": [
    "crag['query'].values"
   ]
  },
  {
   "cell_type": "code",
   "execution_count": 15,
   "id": "bd1b758b",
   "metadata": {},
   "outputs": [
    {
     "data": {
      "text/plain": [
       "np.float64(5.0)"
      ]
     },
     "execution_count": 15,
     "metadata": {},
     "output_type": "execute_result"
    }
   ],
   "source": [
    "crag.search_results.apply(len).mean()"
   ]
  },
  {
   "cell_type": "markdown",
   "id": "159c149a",
   "metadata": {},
   "source": [
    "Плюсы queries - разнообразные, живые.\n",
    "\n",
    "```\n",
    "CRAG covers five domains: Finance, Sports, Music, Movie, and Open domain, and eight types of questions, all in English.\n",
    "QTypes:\n",
    "    1. Simple\n",
    "    2. Simple with condition \n",
    "    3. Set\n",
    "    4. Comparison\n",
    "    5. Aggregation\n",
    "    6. Multi-Hop\n",
    "    7. Post-processing heavy\n",
    "    8. False Premise\n",
    "- QA pairs constructed from KGs\n",
    "- QA pairs constructed from web contents\n",
    "```\n",
    "\n",
    "Нужно понять, как обрабатывать - выдача для query 5 текстов."
   ]
  },
  {
   "cell_type": "markdown",
   "id": "3d0bef74",
   "metadata": {},
   "source": [
    "### ChatQA"
   ]
  },
  {
   "cell_type": "code",
   "execution_count": null,
   "id": "3af35051",
   "metadata": {},
   "outputs": [],
   "source": [
    "from datasets import load_dataset\n",
    "\n",
    "coqa = load_dataset('nvidia/ChatRAG-Bench', 'coqa')"
   ]
  },
  {
   "cell_type": "code",
   "execution_count": 25,
   "id": "7020b9be",
   "metadata": {},
   "outputs": [
    {
     "data": {
      "text/plain": [
       "DatasetDict({\n",
       "    dev: Dataset({\n",
       "        features: ['answers', 'ctxs', 'messages'],\n",
       "        num_rows: 7983\n",
       "    })\n",
       "})"
      ]
     },
     "execution_count": 25,
     "metadata": {},
     "output_type": "execute_result"
    }
   ],
   "source": [
    "coqa"
   ]
  },
  {
   "cell_type": "code",
   "execution_count": 49,
   "id": "8cee45de",
   "metadata": {},
   "outputs": [
    {
     "data": {
      "text/plain": [
       "[{'content': 'What color was Cotton?', 'role': 'user'},\n",
       " {'content': 'white', 'role': 'assistant'},\n",
       " {'content': 'Where did she live?', 'role': 'user'},\n",
       " {'content': 'in a barn', 'role': 'assistant'},\n",
       " {'content': 'Did she live alone?', 'role': 'user'},\n",
       " {'content': 'no', 'role': 'assistant'},\n",
       " {'content': 'Who did she live with?', 'role': 'user'},\n",
       " {'content': 'with her mommy and 5 sisters', 'role': 'assistant'},\n",
       " {'content': 'What color were her sisters?', 'role': 'user'},\n",
       " {'content': 'orange and white', 'role': 'assistant'},\n",
       " {'content': 'Was Cotton happy that she looked different than the rest of her family?',\n",
       "  'role': 'user'},\n",
       " {'content': 'no', 'role': 'assistant'},\n",
       " {'content': 'What did she do to try to make herself the same color as her sisters?',\n",
       "  'role': 'user'},\n",
       " {'content': 'she painted herself', 'role': 'assistant'},\n",
       " {'content': 'Whose paint was it?', 'role': 'user'},\n",
       " {'content': 'the farmer', 'role': 'assistant'},\n",
       " {'content': \"What did Cotton's mother and siblings do when they saw her painted orange?\",\n",
       "  'role': 'user'},\n",
       " {'content': 'they started laughing', 'role': 'assistant'},\n",
       " {'content': \"Where did Cotton's mother put her to clean the paint off?\",\n",
       "  'role': 'user'},\n",
       " {'content': 'a bucket of water', 'role': 'assistant'},\n",
       " {'content': 'What did the other cats do when Cotton emerged from the bucket of water?',\n",
       "  'role': 'user'}]"
      ]
     },
     "execution_count": 49,
     "metadata": {},
     "output_type": "execute_result"
    }
   ],
   "source": [
    "[e for e in coqa['dev']['messages'][10]]"
   ]
  },
  {
   "cell_type": "code",
   "execution_count": 40,
   "id": "baf322e5",
   "metadata": {},
   "outputs": [
    {
     "name": "stdout",
     "output_type": "stream",
     "text": [
      "Once upon a time, in a barn near a farm house, there lived a little white kitten named Cotton. Cotton lived high up in a nice warm place above the barn where all of the farmer's horses slept. But Cotton wasn't alone in her little home above the barn, oh no. She shared her hay bed with her mommy and 5 other sisters. All of her sisters were cute and fluffy, like Cotton. But she was the only white one in the bunch. The rest of her sisters were all orange with beautiful white tiger stripes like Cotton's mommy. Being different made Cotton quite sad. She often wished she looked like the rest of her family. So one day, when Cotton found a can of the old farmer's orange paint, she used it to paint herself like them. When her mommy and sisters found her they started laughing. \n",
      "\n",
      "\"What are you doing, Cotton?!\" \n",
      "\n",
      "\"I only wanted to be more like you\". \n",
      "\n",
      "Cotton's mommy rubbed her face on Cotton's and said \"Oh Cotton, but your fur is so pretty and special, like you. We would never want you to be any other way\". And with that, Cotton's mommy picked her up and dropped her into a big bucket of water. When Cotton came out she was herself again. Her sisters licked her face until Cotton's fur was all all dry. \n",
      "\n",
      "\"Don't ever do that again, Cotton!\" they all cried. \"Next time you might mess up that pretty white fur of yours and we wouldn't want that!\" \n",
      "\n",
      "Then Cotton thought, \"I change my mind. I like being special\".\n"
     ]
    }
   ],
   "source": [
    "print(coqa['dev']['ctxs'][0][0]['text'])"
   ]
  },
  {
   "cell_type": "markdown",
   "id": "b23871cc",
   "metadata": {},
   "source": [
    "### CoQA\n",
    "\n",
    "* Вопросы в диалоге к тексту\n",
    "* Вопросы естествены\n",
    "* Нет деления документов на чанки\n",
    "\n",
    "**Short documents**\n",
    "dataset | author | text types | domain |\n",
    "--------|--------|------------|--------|\n",
    "CoQA    |(Reddy et al., 2019)|short passage|children’s stories, literature, mid/high school exams, news, Wikipedia|\n",
    "DoQA    |(Campos et al., 2020)|documents + unanswerable cases|cooking, travel, and movies collected from active Stack Exchange5 forums|\n",
    "ConvFinQA (CFQA)|(Chen et al., 2022a)|single financial report table along with relevant text|Financial|\n",
    "SQA|(Pasupat & Liang, 2015)|documents which contain only a single Table without any surrounding text|Wikipedia|\n",
    "HybriDial (HDial)|(Nakamura et al., 2022)|documents|conversational QA dataset grounded on documents containing both Wikipedia tabular and textual data|\n"
   ]
  },
  {
   "cell_type": "code",
   "execution_count": 57,
   "id": "ff075c2c",
   "metadata": {},
   "outputs": [
    {
     "data": {
      "application/vnd.jupyter.widget-view+json": {
       "model_id": "f8cc4284e087431d8ea0a082190ce4cb",
       "version_major": 2,
       "version_minor": 0
      },
      "text/plain": [
       "test_cooking.json: 0.00B [00:00, ?B/s]"
      ]
     },
     "metadata": {},
     "output_type": "display_data"
    },
    {
     "data": {
      "application/vnd.jupyter.widget-view+json": {
       "model_id": "1dda54e376164f198c7baf0596c7b60f",
       "version_major": 2,
       "version_minor": 0
      },
      "text/plain": [
       "Generating test split:   0%|          | 0/1797 [00:00<?, ? examples/s]"
      ]
     },
     "metadata": {},
     "output_type": "display_data"
    }
   ],
   "source": [
    "doqa = load_dataset('nvidia/ChatRAG-Bench', 'doqa_cooking')"
   ]
  },
  {
   "cell_type": "code",
   "execution_count": 63,
   "id": "3df1f6af",
   "metadata": {},
   "outputs": [
    {
     "data": {
      "text/plain": [
       "[{'content': 'Canning chili with beans', 'role': 'user'},\n",
       " {'content': 'Sorry. I cannot find the answer based on the context.',\n",
       "  'role': 'assistant'},\n",
       " {'content': 'What material would you advice using for canning?',\n",
       "  'role': 'user'},\n",
       " {'content': 'If you are going to be canning this for long term storage you will need to be pressure canning i',\n",
       "  'role': 'assistant'},\n",
       " {'content': 'Do I need a particular piece of machiner for this?',\n",
       "  'role': 'user'},\n",
       " {'content': 'If you are going to be canning this for long term storage you will need to be pressure canning',\n",
       "  'role': 'assistant'},\n",
       " {'content': 'How much would I expect to pay for a pressure canner?',\n",
       "  'role': 'user'},\n",
       " {'content': 'Sorry. I cannot find the answer based on the context.',\n",
       "  'role': 'assistant'},\n",
       " {'content': 'What are the best vegetables to can?', 'role': 'user'}]"
      ]
     },
     "execution_count": 63,
     "metadata": {},
     "output_type": "execute_result"
    }
   ],
   "source": [
    "doqa['test']['messages'][4]"
   ]
  },
  {
   "cell_type": "markdown",
   "id": "4c067028",
   "metadata": {},
   "source": [
    "## MIRACL"
   ]
  },
  {
   "cell_type": "code",
   "execution_count": 53,
   "id": "42cd2efa",
   "metadata": {},
   "outputs": [],
   "source": [
    "miracl = pd.read_json(path_or_buf='docs-0.jsonl', lines=True)"
   ]
  },
  {
   "cell_type": "code",
   "execution_count": 55,
   "id": "b9f1dfac",
   "metadata": {},
   "outputs": [
    {
     "data": {
      "text/plain": [
       "'Anarchism is a political philosophy that advocates self-governed societies based on voluntary, cooperative institutions and the rejection of hierarchies those societies view as unjust. These institutions are often described as stateless societies, although several authors have defined them more specifically as institutions based on non-hierarchical or free associations. Anarchism holds capitalism, the state, and representative democracy to be undesirable, unnecessary, and harmful.'"
      ]
     },
     "execution_count": 55,
     "metadata": {},
     "output_type": "execute_result"
    }
   ],
   "source": [
    "miracl.text[0]"
   ]
  },
  {
   "cell_type": "markdown",
   "id": "d1b17c94",
   "metadata": {},
   "source": [
    "```\n",
    "1\tWhen was quantum field theory developed?\n",
    "4\tHow long does a philosophy degree take?\n",
    "5\tWas there a year 0?\n",
    "6\tCan you prevent traumatic brain injury?\n",
    "7\tWhen is the dialectical method used?\n",
    "8\tHave the Colorado Rockies won a title?\n",
    "9\tWho invented Hangul?\n",
    "10\tWhat do Grasshoppers eat?\n",
    "12\tWhen was Guitar Hero Live first released?\n",
    "13\tWhen were bluebonnets named the state flower of Texas?\n",
    "14\tWho created the series Clannad?\n",
    "22\tWhen was the Battle of Suoi Chau Pha fought?\n",
    "23\tHow old was Cho Namchul when he died?\n",
    "24\tWhat is the Navy's military mascot?\n",
    "25\tHow many permanent members of the United Nations Security Council are there?\n",
    "26\tWho created the Gundam animated series?\n",
    "27\tAre steam locomotives more powerful than diesel?\n",
    "30\tWhen was special relativity developed?\n",
    "```"
   ]
  },
  {
   "cell_type": "markdown",
   "id": "e47f22cd",
   "metadata": {},
   "source": [
    "Вопросы обычные, также составлены пользователями"
   ]
  },
  {
   "cell_type": "markdown",
   "id": "2542da20",
   "metadata": {},
   "source": [
    "## RAG bench"
   ]
  },
  {
   "cell_type": "code",
   "execution_count": 3,
   "id": "503f44e3",
   "metadata": {},
   "outputs": [
    {
     "data": {
      "application/vnd.jupyter.widget-view+json": {
       "model_id": "f2487a945eb54b6d9aff473a11e3354f",
       "version_major": 2,
       "version_minor": 0
      },
      "text/plain": [
       "train-00000-of-00001.parquet:   0%|          | 0.00/4.23M [00:00<?, ?B/s]"
      ]
     },
     "metadata": {},
     "output_type": "display_data"
    },
    {
     "name": "stderr",
     "output_type": "stream",
     "text": [
      "c:\\Users\\anna-\\Jupyter\\quote-mipt\\.venv\\Lib\\site-packages\\huggingface_hub\\file_download.py:143: UserWarning: `huggingface_hub` cache-system uses symlinks by default to efficiently store duplicated files but your machine does not support them in C:\\Users\\anna-\\.cache\\huggingface\\hub\\datasets--rungalileo--ragbench. Caching files will still work but in a degraded version that might require more space on your disk. This warning can be disabled by setting the `HF_HUB_DISABLE_SYMLINKS_WARNING` environment variable. For more details, see https://huggingface.co/docs/huggingface_hub/how-to-cache#limitations.\n",
      "To support symlinks on Windows, you either need to activate Developer Mode or to run Python as an administrator. In order to activate developer mode, see this article: https://docs.microsoft.com/en-us/windows/apps/get-started/enable-your-device-for-development\n",
      "  warnings.warn(message)\n"
     ]
    },
    {
     "data": {
      "application/vnd.jupyter.widget-view+json": {
       "model_id": "a5303f7b002046deaa4f6f52df69a74e",
       "version_major": 2,
       "version_minor": 0
      },
      "text/plain": [
       "validation-00000-of-00001.parquet:   0%|          | 0.00/528k [00:00<?, ?B/s]"
      ]
     },
     "metadata": {},
     "output_type": "display_data"
    },
    {
     "data": {
      "application/vnd.jupyter.widget-view+json": {
       "model_id": "96b73213a90f4ec89da656ad8541503a",
       "version_major": 2,
       "version_minor": 0
      },
      "text/plain": [
       "test-00000-of-00001.parquet:   0%|          | 0.00/562k [00:00<?, ?B/s]"
      ]
     },
     "metadata": {},
     "output_type": "display_data"
    },
    {
     "data": {
      "application/vnd.jupyter.widget-view+json": {
       "model_id": "a16dea2b36ed4148a511a114b11661e6",
       "version_major": 2,
       "version_minor": 0
      },
      "text/plain": [
       "Generating train split:   0%|          | 0/1460 [00:00<?, ? examples/s]"
      ]
     },
     "metadata": {},
     "output_type": "display_data"
    },
    {
     "data": {
      "application/vnd.jupyter.widget-view+json": {
       "model_id": "0049f6505dec4df4bdc1b87ca7caefb4",
       "version_major": 2,
       "version_minor": 0
      },
      "text/plain": [
       "Generating validation split:   0%|          | 0/182 [00:00<?, ? examples/s]"
      ]
     },
     "metadata": {},
     "output_type": "display_data"
    },
    {
     "data": {
      "application/vnd.jupyter.widget-view+json": {
       "model_id": "37e1ff75238b46529238d5903a3455ad",
       "version_major": 2,
       "version_minor": 0
      },
      "text/plain": [
       "Generating test split:   0%|          | 0/184 [00:00<?, ? examples/s]"
      ]
     },
     "metadata": {},
     "output_type": "display_data"
    }
   ],
   "source": [
    "datasets = ['covidqa', 'cuad', 'delucionqa', 'emanual', 'expertqa', 'finqa', 'hagrid', 'hotpotqa', 'msmarco', 'pubmedqa', 'tatqa', 'techqa']\n",
    "ragbench = load_dataset('rungalileo/ragbench', 'delucionqa')"
   ]
  },
  {
   "cell_type": "code",
   "execution_count": 13,
   "id": "e8e471dd",
   "metadata": {},
   "outputs": [
    {
     "data": {
      "text/plain": [
       "' Autostop Mode The Stop/Start feature is enabled after every normal engine start.  At that time, the system will go into STOP/START READY.  WARNING: Vehicles with the Stop/Start system will be equipped with two batteries.  Both the main and the supplemental batteries must be disconnected to completely de-energize the 12 Volt electrical system.  Serious injury or death could result if you do not disconnect both batteries.  To learn how to properly disconnect, see an authorized dealer.'"
      ]
     },
     "execution_count": 13,
     "metadata": {},
     "output_type": "execute_result"
    }
   ],
   "source": [
    "ragbench['train']['documents'][0][0]"
   ]
  },
  {
   "cell_type": "code",
   "execution_count": 12,
   "id": "d9eaa9b7",
   "metadata": {},
   "outputs": [
    {
     "data": {
      "text/plain": [
       "'How many batteries does the Stop/Start system need?'"
      ]
     },
     "execution_count": 12,
     "metadata": {},
     "output_type": "execute_result"
    }
   ],
   "source": [
    "ragbench['train']['question'][0]"
   ]
  },
  {
   "cell_type": "code",
   "execution_count": 17,
   "id": "c5b3a695",
   "metadata": {},
   "outputs": [
    {
     "data": {
      "text/plain": [
       "'The Stop/Start system needs two batteries.'"
      ]
     },
     "execution_count": 17,
     "metadata": {},
     "output_type": "execute_result"
    }
   ],
   "source": [
    "ragbench['train']['response'][0]"
   ]
  },
  {
   "cell_type": "code",
   "execution_count": 23,
   "id": "b0b9886c",
   "metadata": {},
   "outputs": [
    {
     "data": {
      "text/plain": [
       "[['0a',\n",
       "  ' Autostop Mode The Stop/Start feature is enabled after every normal engine start.'],\n",
       " ['0b', 'At that time, the system will go into STOP/START READY.'],\n",
       " ['0c',\n",
       "  'WARNING: Vehicles with the Stop/Start system will be equipped with two batteries.'],\n",
       " ['0d',\n",
       "  'Both the main and the supplemental batteries must be disconnected to completely de-energize the 12 Volt electrical system.'],\n",
       " ['0e',\n",
       "  'Serious injury or death could result if you do not disconnect both batteries.'],\n",
       " ['0f', 'To learn how to properly disconnect, see an authorized dealer.']]"
      ]
     },
     "execution_count": 23,
     "metadata": {},
     "output_type": "execute_result"
    }
   ],
   "source": [
    "ragbench['train']['documents_sentences'][0][0]"
   ]
  },
  {
   "cell_type": "code",
   "execution_count": 5,
   "id": "b4c44d11",
   "metadata": {},
   "outputs": [
    {
     "data": {
      "text/plain": [
       "['where in norway is utoya island',\n",
       " 'michael carroll author biography',\n",
       " 'average salary in hcl norway',\n",
       " 'how long do you have to keep financial records in nz',\n",
       " 'what causes ghost ants']"
      ]
     },
     "execution_count": 5,
     "metadata": {},
     "output_type": "execute_result"
    }
   ],
   "source": [
    "ms_marco['test']['question'][:5]"
   ]
  },
  {
   "cell_type": "code",
   "execution_count": 12,
   "id": "0fac665d",
   "metadata": {},
   "outputs": [
    {
     "data": {
      "text/plain": [
       "[7, 7, 7, 10, 9]"
      ]
     },
     "execution_count": 12,
     "metadata": {},
     "output_type": "execute_result"
    }
   ],
   "source": [
    "[len(l) for l in ms_marco['test']['documents'][:5]]"
   ]
  },
  {
   "cell_type": "markdown",
   "id": "eca79551",
   "metadata": {},
   "source": [
    "* Включает разные датасеты\n",
    "* Для MS Marco по несколько документов для query\n",
    "* ~ query - это поисковые запросы"
   ]
  }
 ],
 "metadata": {
  "kernelspec": {
   "display_name": "retrieval-research-mipt",
   "language": "python",
   "name": "python3"
  },
  "language_info": {
   "codemirror_mode": {
    "name": "ipython",
    "version": 3
   },
   "file_extension": ".py",
   "mimetype": "text/x-python",
   "name": "python",
   "nbconvert_exporter": "python",
   "pygments_lexer": "ipython3",
   "version": "3.12.11"
  }
 },
 "nbformat": 4,
 "nbformat_minor": 5
}
