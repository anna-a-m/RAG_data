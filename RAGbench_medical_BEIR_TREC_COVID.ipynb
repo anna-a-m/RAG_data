{
 "cells": [
  {
   "cell_type": "markdown",
   "id": "9f6e1653",
   "metadata": {},
   "source": [
    "## RAG bench \n",
    "\n",
    "*Robert Friel, et. al. [RAGBench: Explainable Benchmark for Retrieval-Augmented Generation Systems](https://arxiv.org/abs/2407.11005). 25.06.24*\n",
    "\n",
    "> It covers five unique industry-specific domains and various RAG task types. RAGBench examples are sourced from industry corpora such as user manuals.\n",
    ">\n",
    ">**Source Domains**\n",
    "> - bio-medical research (PubmedQA, CovidQA), \n",
    "> - general knowledge (HotpotQA, MS Marco, HAGRID, ExperQA), \n",
    "> - legal contracts (CuAD), \n",
    "> - customer support (DelucionQA, EManual, TechQA), \n",
    "> - finance (FinBench, TAT-QA)\n",
    ">\n",
    "><p style=\"color: red;\">RAGBench component datasets contain between 1%- 20% hallucinations</p>"
   ]
  },
  {
   "cell_type": "markdown",
   "id": "d8710287",
   "metadata": {},
   "source": [
    "## Bio-medical research Domain\n",
    "\n",
    "### PubmedQA\n",
    "\n",
    "> *Qiao Jin, et. al. [PubMedQA: A Dataset for Biomedical Research Question Answering](https://arxiv.org/pdf/1909.06146). 13.09.2019*\n",
    ">\n",
    "> **Document source**: research abstracts\n",
    ">\n",
    "> **Question source**: automated heuristics\n",
    ">\n",
    "> **Num docs**: 4\n",
    ">\n",
    "> **Average doc length in tokens**: 99 \n",
    ">\n",
    "> **Train, dev, test size**: (19.5k, 2.5k, 2.5k) \n",
    ">\n",
    "> PubMedQA is split into three subsets: labeled, unlabeled and artificially generated.\n",
    "\n",
    "<p style=\"color: blue;\">Представлены только вопросы да/нет. Поделены на три группы 1. размеченные, 2. неразмеченные, 3. сгенерированные (ELMO + BERT). В основном вопросы берутся из заголовка статьи и аннотации. Ответ берется из аннотации. Разметчики оценивали верность ответа - да/нет/возможно. В контексте даются чанки. Заголовок не указан, но это по сути вопрос.</p>"
   ]
  },
  {
   "cell_type": "code",
   "execution_count": 1,
   "id": "4548edd4",
   "metadata": {},
   "outputs": [],
   "source": [
    "from datasets import load_dataset\n",
    "import pandas as pd\n",
    "\n",
    "import requests\n",
    "import io"
   ]
  },
  {
   "cell_type": "code",
   "execution_count": 10,
   "id": "e39f411b",
   "metadata": {},
   "outputs": [
    {
     "data": {
      "application/vnd.jupyter.widget-view+json": {
       "model_id": "b54cd9e1a7fc4bc592bda11f8bac5b0a",
       "version_major": 2,
       "version_minor": 0
      },
      "text/plain": [
       "train-00000-of-00001.parquet:   0%|          | 0.00/80.1M [00:00<?, ?B/s]"
      ]
     },
     "metadata": {},
     "output_type": "display_data"
    },
    {
     "data": {
      "application/vnd.jupyter.widget-view+json": {
       "model_id": "120169c77e514896876adf3017f3e19f",
       "version_major": 2,
       "version_minor": 0
      },
      "text/plain": [
       "validation-00000-of-00001.parquet:   0%|          | 0.00/10.1M [00:00<?, ?B/s]"
      ]
     },
     "metadata": {},
     "output_type": "display_data"
    },
    {
     "data": {
      "application/vnd.jupyter.widget-view+json": {
       "model_id": "165c4b031419480599f3c18904e3350e",
       "version_major": 2,
       "version_minor": 0
      },
      "text/plain": [
       "test-00000-of-00001.parquet:   0%|          | 0.00/10.3M [00:00<?, ?B/s]"
      ]
     },
     "metadata": {},
     "output_type": "display_data"
    },
    {
     "data": {
      "application/vnd.jupyter.widget-view+json": {
       "model_id": "3d84b62239fb44d294f5468933748383",
       "version_major": 2,
       "version_minor": 0
      },
      "text/plain": [
       "Generating train split:   0%|          | 0/19600 [00:00<?, ? examples/s]"
      ]
     },
     "metadata": {},
     "output_type": "display_data"
    },
    {
     "data": {
      "application/vnd.jupyter.widget-view+json": {
       "model_id": "2144381594e344b29e5e143a75a32e7e",
       "version_major": 2,
       "version_minor": 0
      },
      "text/plain": [
       "Generating validation split:   0%|          | 0/2450 [00:00<?, ? examples/s]"
      ]
     },
     "metadata": {},
     "output_type": "display_data"
    },
    {
     "data": {
      "application/vnd.jupyter.widget-view+json": {
       "model_id": "8c462ac8c4e247b49349dbb5715b5698",
       "version_major": 2,
       "version_minor": 0
      },
      "text/plain": [
       "Generating test split:   0%|          | 0/2450 [00:00<?, ? examples/s]"
      ]
     },
     "metadata": {},
     "output_type": "display_data"
    }
   ],
   "source": [
    "pubmedqa = load_dataset('rungalileo/ragbench', 'pubmedqa')"
   ]
  },
  {
   "cell_type": "code",
   "execution_count": 11,
   "id": "a2115da4",
   "metadata": {},
   "outputs": [],
   "source": [
    "pubmedqa_train = pd.DataFrame(pubmedqa['train'])"
   ]
  },
  {
   "cell_type": "code",
   "execution_count": 12,
   "id": "9bb1efba",
   "metadata": {},
   "outputs": [
    {
     "data": {
      "text/plain": [
       "4803"
      ]
     },
     "execution_count": 12,
     "metadata": {},
     "output_type": "execute_result"
    }
   ],
   "source": [
    "sum(pubmedqa_train.adherence_score == False)"
   ]
  },
  {
   "cell_type": "code",
   "execution_count": 39,
   "id": "bca28106",
   "metadata": {},
   "outputs": [
    {
     "data": {
      "application/vnd.jupyter.widget-view+json": {
       "model_id": "e97a105c2c3d4d9cb822509db370f375",
       "version_major": 2,
       "version_minor": 0
      },
      "text/plain": [
       "README.md: 0.00B [00:00, ?B/s]"
      ]
     },
     "metadata": {},
     "output_type": "display_data"
    },
    {
     "name": "stderr",
     "output_type": "stream",
     "text": [
      "c:\\Users\\anna-\\Jupyter\\quote-mipt\\.venv\\Lib\\site-packages\\huggingface_hub\\file_download.py:143: UserWarning: `huggingface_hub` cache-system uses symlinks by default to efficiently store duplicated files but your machine does not support them in C:\\Users\\anna-\\.cache\\huggingface\\hub\\datasets--qiaojin--PubMedQA. Caching files will still work but in a degraded version that might require more space on your disk. This warning can be disabled by setting the `HF_HUB_DISABLE_SYMLINKS_WARNING` environment variable. For more details, see https://huggingface.co/docs/huggingface_hub/how-to-cache#limitations.\n",
      "To support symlinks on Windows, you either need to activate Developer Mode or to run Python as an administrator. In order to activate developer mode, see this article: https://docs.microsoft.com/en-us/windows/apps/get-started/enable-your-device-for-development\n",
      "  warnings.warn(message)\n"
     ]
    },
    {
     "data": {
      "application/vnd.jupyter.widget-view+json": {
       "model_id": "2c1bf0c424524fda8166d8eef531716a",
       "version_major": 2,
       "version_minor": 0
      },
      "text/plain": [
       "train-00000-of-00001.parquet:   0%|          | 0.00/233M [00:00<?, ?B/s]"
      ]
     },
     "metadata": {},
     "output_type": "display_data"
    },
    {
     "data": {
      "application/vnd.jupyter.widget-view+json": {
       "model_id": "24142dce40f4474eb39e3f39a9827d2f",
       "version_major": 2,
       "version_minor": 0
      },
      "text/plain": [
       "Generating train split:   0%|          | 0/211269 [00:00<?, ? examples/s]"
      ]
     },
     "metadata": {},
     "output_type": "display_data"
    }
   ],
   "source": [
    "pubmedqa_orig = load_dataset('qiaojin/PubMedQA', 'pqa_artificial')"
   ]
  },
  {
   "cell_type": "code",
   "execution_count": 41,
   "id": "42160ed7",
   "metadata": {},
   "outputs": [],
   "source": [
    "pubmedqa_orig_train = pd.DataFrame(pubmedqa_orig['train'])"
   ]
  },
  {
   "cell_type": "code",
   "execution_count": 43,
   "id": "f4a4ae5b",
   "metadata": {},
   "outputs": [
    {
     "data": {
      "text/html": [
       "<div>\n",
       "<style scoped>\n",
       "    .dataframe tbody tr th:only-of-type {\n",
       "        vertical-align: middle;\n",
       "    }\n",
       "\n",
       "    .dataframe tbody tr th {\n",
       "        vertical-align: top;\n",
       "    }\n",
       "\n",
       "    .dataframe thead th {\n",
       "        text-align: right;\n",
       "    }\n",
       "</style>\n",
       "<table border=\"1\" class=\"dataframe\">\n",
       "  <thead>\n",
       "    <tr style=\"text-align: right;\">\n",
       "      <th></th>\n",
       "      <th>pubid</th>\n",
       "      <th>question</th>\n",
       "      <th>context</th>\n",
       "      <th>long_answer</th>\n",
       "      <th>final_decision</th>\n",
       "    </tr>\n",
       "  </thead>\n",
       "  <tbody>\n",
       "    <tr>\n",
       "      <th>0</th>\n",
       "      <td>25429730</td>\n",
       "      <td>Are group 2 innate lymphoid cells ( ILC2s ) in...</td>\n",
       "      <td>{'contexts': ['Chronic rhinosinusitis (CRS) is...</td>\n",
       "      <td>As ILC2s are elevated in patients with CRSwNP,...</td>\n",
       "      <td>yes</td>\n",
       "    </tr>\n",
       "    <tr>\n",
       "      <th>1</th>\n",
       "      <td>25433161</td>\n",
       "      <td>Does vagus nerve contribute to the development...</td>\n",
       "      <td>{'contexts': ['Phosphatidylethanolamine N-meth...</td>\n",
       "      <td>Neuronal signals via the hepatic vagus nerve c...</td>\n",
       "      <td>yes</td>\n",
       "    </tr>\n",
       "    <tr>\n",
       "      <th>2</th>\n",
       "      <td>25445714</td>\n",
       "      <td>Does psammaplin A induce Sirtuin 1-dependent a...</td>\n",
       "      <td>{'contexts': ['Psammaplin A (PsA) is a natural...</td>\n",
       "      <td>PsA significantly inhibited MCF-7/adr cells pr...</td>\n",
       "      <td>yes</td>\n",
       "    </tr>\n",
       "    <tr>\n",
       "      <th>3</th>\n",
       "      <td>25431941</td>\n",
       "      <td>Is methylation of the FGFR2 gene associated wi...</td>\n",
       "      <td>{'contexts': ['This study examined links betwe...</td>\n",
       "      <td>We identified a novel biologically plausible c...</td>\n",
       "      <td>yes</td>\n",
       "    </tr>\n",
       "    <tr>\n",
       "      <th>4</th>\n",
       "      <td>25432519</td>\n",
       "      <td>Do tumor-infiltrating immune cell profiles and...</td>\n",
       "      <td>{'contexts': ['Tumor microenvironment immunity...</td>\n",
       "      <td>Breast cancer immune cell subpopulation profil...</td>\n",
       "      <td>yes</td>\n",
       "    </tr>\n",
       "  </tbody>\n",
       "</table>\n",
       "</div>"
      ],
      "text/plain": [
       "      pubid                                           question  \\\n",
       "0  25429730  Are group 2 innate lymphoid cells ( ILC2s ) in...   \n",
       "1  25433161  Does vagus nerve contribute to the development...   \n",
       "2  25445714  Does psammaplin A induce Sirtuin 1-dependent a...   \n",
       "3  25431941  Is methylation of the FGFR2 gene associated wi...   \n",
       "4  25432519  Do tumor-infiltrating immune cell profiles and...   \n",
       "\n",
       "                                             context  \\\n",
       "0  {'contexts': ['Chronic rhinosinusitis (CRS) is...   \n",
       "1  {'contexts': ['Phosphatidylethanolamine N-meth...   \n",
       "2  {'contexts': ['Psammaplin A (PsA) is a natural...   \n",
       "3  {'contexts': ['This study examined links betwe...   \n",
       "4  {'contexts': ['Tumor microenvironment immunity...   \n",
       "\n",
       "                                         long_answer final_decision  \n",
       "0  As ILC2s are elevated in patients with CRSwNP,...            yes  \n",
       "1  Neuronal signals via the hepatic vagus nerve c...            yes  \n",
       "2  PsA significantly inhibited MCF-7/adr cells pr...            yes  \n",
       "3  We identified a novel biologically plausible c...            yes  \n",
       "4  Breast cancer immune cell subpopulation profil...            yes  "
      ]
     },
     "execution_count": 43,
     "metadata": {},
     "output_type": "execute_result"
    }
   ],
   "source": [
    "pubmedqa_orig_train.head()"
   ]
  },
  {
   "cell_type": "code",
   "execution_count": 44,
   "id": "a5da3a30",
   "metadata": {},
   "outputs": [
    {
     "data": {
      "text/plain": [
       "{'contexts': ['Chronic rhinosinusitis (CRS) is a heterogeneous disease with an uncertain pathogenesis. Group 2 innate lymphoid cells (ILC2s) represent a recently discovered cell population which has been implicated in driving Th2 inflammation in CRS; however, their relationship with clinical disease characteristics has yet to be investigated.',\n",
       "  'The aim of this study was to identify ILC2s in sinus mucosa in patients with CRS and controls and compare ILC2s across characteristics of disease.',\n",
       "  'A cross-sectional study of patients with CRS undergoing endoscopic sinus surgery was conducted. Sinus mucosal biopsies were obtained during surgery and control tissue from patients undergoing pituitary tumour resection through transphenoidal approach. ILC2s were identified as CD45(+) Lin(-) CD127(+) CD4(-) CD8(-) CRTH2(CD294)(+) CD161(+) cells in single cell suspensions through flow cytometry. ILC2 frequencies, measured as a percentage of CD45(+) cells, were compared across CRS phenotype, endotype, inflammatory CRS subtype and other disease characteristics including blood eosinophils, serum IgE, asthma status and nasal symptom score.',\n",
       "  '35 patients (40% female, age 48 ± 17 years) including 13 with eosinophilic CRS (eCRS), 13 with non-eCRS and 9 controls were recruited. ILC2 frequencies were associated with the presence of nasal polyps (P = 0.002) as well as high tissue eosinophilia (P = 0.004) and eosinophil-dominant CRS (P = 0.001) (Mann-Whitney U). They were also associated with increased blood eosinophilia (P = 0.005). There were no significant associations found between ILC2s and serum total IgE and allergic disease. In the CRS with nasal polyps (CRSwNP) population, ILC2s were increased in patients with co-existing asthma (P = 0.03). ILC2s were also correlated with worsening nasal symptom score in CRS (P = 0.04).'],\n",
       " 'labels': ['BACKGROUND', 'OBJECTIVE', 'METHODS', 'RESULTS'],\n",
       " 'meshes': ['Adult',\n",
       "  'Aged',\n",
       "  'Antigens, Surface',\n",
       "  'Case-Control Studies',\n",
       "  'Chronic Disease',\n",
       "  'Eosinophilia',\n",
       "  'Female',\n",
       "  'Humans',\n",
       "  'Hypersensitivity',\n",
       "  'Immunity, Innate',\n",
       "  'Immunoglobulin E',\n",
       "  'Immunophenotyping',\n",
       "  'Leukocyte Count',\n",
       "  'Lymphocyte Subsets',\n",
       "  'Male',\n",
       "  'Middle Aged',\n",
       "  'Nasal Mucosa',\n",
       "  'Nasal Polyps',\n",
       "  'Neutrophil Infiltration',\n",
       "  'Patient Outcome Assessment',\n",
       "  'Rhinitis',\n",
       "  'Sinusitis',\n",
       "  'Young Adult']}"
      ]
     },
     "execution_count": 44,
     "metadata": {},
     "output_type": "execute_result"
    }
   ],
   "source": [
    "pubmedqa_orig_train.context[0]"
   ]
  },
  {
   "cell_type": "markdown",
   "id": "6ba45918",
   "metadata": {},
   "source": [
    "### CovidQA\n",
    "\n",
    "*Timo Möller, et. al. [COVID-QA: A Question Answering Dataset for COVID-19](https://aclanthology.org/2020.nlpcovid19-acl.18.pdf). 07.2020.*\n",
    "\n",
    "> **Document source**: research papers\n",
    ">\n",
    "> **Question source**: expert \n",
    ">\n",
    "> **Num docs**: 4\n",
    ">\n",
    "> **Average doc length in tokens**: 122 \n",
    ">\n",
    "> **Train, dev, test size**: (2.5k, 534, 492)\n",
    ">\n",
    "> - dataset consisting of 2,019 question/answer pairs annotated by volunteer biomedical experts on scientific articles related to COVID-19\n",
    "> - selected 147 scientific articles mostly related to COVID-19 from the CORD-19 collection to be annotated by 15 experts\n",
    "\n",
    "<p style=\"color: blue;\">Хорошие данные, но надо подумать, как парсить, потому что 1. заголовок представлен в контексте, 2. текст не поделен на части.</p>"
   ]
  },
  {
   "cell_type": "code",
   "execution_count": 2,
   "id": "0b1c2c9a",
   "metadata": {},
   "outputs": [
    {
     "data": {
      "application/vnd.jupyter.widget-view+json": {
       "model_id": "3343ac55c44a4de1b61963795480b091",
       "version_major": 2,
       "version_minor": 0
      },
      "text/plain": [
       "train-00000-of-00001.parquet:   0%|          | 0.00/4.20M [00:00<?, ?B/s]"
      ]
     },
     "metadata": {},
     "output_type": "display_data"
    },
    {
     "name": "stderr",
     "output_type": "stream",
     "text": [
      "c:\\Users\\anna-\\Jupyter\\quote-mipt\\.venv\\Lib\\site-packages\\huggingface_hub\\file_download.py:143: UserWarning: `huggingface_hub` cache-system uses symlinks by default to efficiently store duplicated files but your machine does not support them in C:\\Users\\anna-\\.cache\\huggingface\\hub\\datasets--rungalileo--ragbench. Caching files will still work but in a degraded version that might require more space on your disk. This warning can be disabled by setting the `HF_HUB_DISABLE_SYMLINKS_WARNING` environment variable. For more details, see https://huggingface.co/docs/huggingface_hub/how-to-cache#limitations.\n",
      "To support symlinks on Windows, you either need to activate Developer Mode or to run Python as an administrator. In order to activate developer mode, see this article: https://docs.microsoft.com/en-us/windows/apps/get-started/enable-your-device-for-development\n",
      "  warnings.warn(message)\n"
     ]
    },
    {
     "data": {
      "application/vnd.jupyter.widget-view+json": {
       "model_id": "0dc6aa4f08674043931eab7a03e7d405",
       "version_major": 2,
       "version_minor": 0
      },
      "text/plain": [
       "test-00000-of-00001.parquet:   0%|          | 0.00/854k [00:00<?, ?B/s]"
      ]
     },
     "metadata": {},
     "output_type": "display_data"
    },
    {
     "data": {
      "application/vnd.jupyter.widget-view+json": {
       "model_id": "701c34fc0b3948458c24d6fa47021dad",
       "version_major": 2,
       "version_minor": 0
      },
      "text/plain": [
       "validation-00000-of-00001.parquet:   0%|          | 0.00/913k [00:00<?, ?B/s]"
      ]
     },
     "metadata": {},
     "output_type": "display_data"
    },
    {
     "data": {
      "application/vnd.jupyter.widget-view+json": {
       "model_id": "568f39f94d424f98b342df0d697ab2b5",
       "version_major": 2,
       "version_minor": 0
      },
      "text/plain": [
       "Generating train split:   0%|          | 0/1252 [00:00<?, ? examples/s]"
      ]
     },
     "metadata": {},
     "output_type": "display_data"
    },
    {
     "data": {
      "application/vnd.jupyter.widget-view+json": {
       "model_id": "ef08d66657ed4774b1398c86390d8549",
       "version_major": 2,
       "version_minor": 0
      },
      "text/plain": [
       "Generating test split:   0%|          | 0/246 [00:00<?, ? examples/s]"
      ]
     },
     "metadata": {},
     "output_type": "display_data"
    },
    {
     "data": {
      "application/vnd.jupyter.widget-view+json": {
       "model_id": "3d39203ea03d4ff9a60cbd9506113682",
       "version_major": 2,
       "version_minor": 0
      },
      "text/plain": [
       "Generating validation split:   0%|          | 0/267 [00:00<?, ? examples/s]"
      ]
     },
     "metadata": {},
     "output_type": "display_data"
    }
   ],
   "source": [
    "covidqa = load_dataset('rungalileo/ragbench', 'covidqa')"
   ]
  },
  {
   "cell_type": "code",
   "execution_count": 5,
   "id": "ffcb4c89",
   "metadata": {},
   "outputs": [],
   "source": [
    "covidqa_train = pd.DataFrame(covidqa['train'])"
   ]
  },
  {
   "cell_type": "code",
   "execution_count": 8,
   "id": "72a0b9e3",
   "metadata": {},
   "outputs": [
    {
     "data": {
      "text/plain": [
       "185"
      ]
     },
     "execution_count": 8,
     "metadata": {},
     "output_type": "execute_result"
    }
   ],
   "source": [
    "sum(covidqa_train.adherence_score == False)"
   ]
  },
  {
   "cell_type": "code",
   "execution_count": null,
   "id": "ae2661fd",
   "metadata": {},
   "outputs": [],
   "source": [
    "response = requests.get('https://raw.githubusercontent.com/deepset-ai/COVID-QA/refs/heads/master/data/question-answering/COVID-QA.json')\n",
    "covidqa_orig = pd.read_json(io.BytesIO(response.content))"
   ]
  },
  {
   "cell_type": "code",
   "execution_count": 35,
   "id": "020cde7b",
   "metadata": {},
   "outputs": [
    {
     "data": {
      "text/plain": [
       "\"Functional Genetic Variants in DC-SIGNR Are Associated with Mother-to-Child Transmission of HIV-1\\n\\nhttps://www.ncbi.nlm.nih.gov/pmc/articles/PMC2752805/\\n\\nBoily-Larouche, Geneviève; Iscache, Anne-Laure; Zijenah, Lynn S.; Humphrey, Jean H.; Mouland, Andrew J.; Ward, Brian J.; Roger, Michel\\n2009-10-07\\nDOI:10.1371/journal.pone.0007211\\nLicense:cc-by\\n\\nAbstract: BACKGROUND: Mother-to-child transmission (MTCT) is the main cause of HIV-1 infection in children worldwide. Given that the C-type lectin receptor, dendritic cell-specific ICAM-grabbing non-integrin-related (DC-SIGNR, also known as CD209L or liver/lymph node–specific ICAM-grabbing non-integrin (L-SIGN)), can interact with pathogens including HIV-1 and is expressed at the maternal-fetal interface, we hypothesized that it could influence MTCT of HIV-1. METHODS AND FINDINGS: To investigate the potential role of DC-SIGNR in MTCT of HIV-1, we carried out a genetic association study of DC-SIGNR in a well-characterized cohort of 197 HIV-infected mothers and their infants recruited in Harare, Zimbabwe. Infants harbouring two copies of DC-SIGNR H1 and/or H3 haplotypes (H1-H1, H1-H3, H3-H3) had a 3.6-fold increased risk of in utero (IU) (P = 0.013) HIV-1 infection and a 5.7-fold increased risk of intrapartum (IP) (P = 0.025) HIV-1 infection after adjusting for a number of maternal factors. The implicated H1 and H3 haplotypes share two single nucleotide polymorphisms (SNPs) in promoter region (p-198A) and intron 2 (int2-180A) that were associated with increased risk of both IU (P = 0.045 and P = 0.003, respectively) and IP (P = 0.025, for int2-180A) HIV-1 infection. The promoter variant reduced transcriptional activity in vitro. In homozygous H1 infants bearing both the p-198A and int2-180A mutations, we observed a 4-fold decrease in the level of placental DC-SIGNR transcripts, disproportionately affecting the expression of membrane-bound isoforms compared to infant noncarriers (P = 0.011). CONCLUSION: These results suggest that DC-SIGNR plays a crucial role in MTCT of HIV-1 and that impaired placental DC-SIGNR expression increases risk of transmission.\\n\\nText: Without specific interventions, the rate of HIV-1 mother-tochild transmission (MTCT) is approximately 15-45% [1] . UNAIDS estimates that last year alone, more than 400,000 children were infected worldwide, mostly through MTCT and 90% of them lived in sub-Saharan Africa. In the most heavilyaffected countries, such as Zimbabwe, HIV-1 is responsible for one third of all deaths among children under the age of five. MTCT of HIV-1 can occur during pregnancy (in utero, IU), delivery (intrapartum, IP) or breastfeeding (postpartum, PP). High maternal viral load, low CD4 cells count, vaginal delivery, low gestational age have all been identified as independent factors associated with MTCT of HIV-1 [1] . Although antiretrovirals can reduce MTCT to 2%, limited access to timely diagnostics and drugs in many developing world countries limits the potential impact of this strategy. A better understanding of the mechanisms acting at the maternal-fetal interface is crucial for the design of alternative interventions to antiretroviral therapy for transmission prevention.\\n\\nDendritic cell-specific ICAM-grabbing non-integrin-related (DC-SIGNR, also known as CD209L or liver/lymph node-specific ICAM-grabbing non-integrin (L-SIGN)) can interact with a plethora of pathogens including HIV-1 and is expressed in placental capillary endothelial cells [2] . DC-SIGNR is organized in three distinct domains, an N-terminal cytoplasmic tail, a repeat region containing seven repeat of 23 amino acids and a C-terminal domain implicated in pathogen binding. Alternative splicing of DC-SIGNR gene leads to the production of a highly diversify isoforms repertoire which includes membrane-bound and soluble isoforms [3] . It has been proposed that interaction between DC-SIGNR and HIV-1 might enhance viral transfer to other susceptible cell types [2] but DC-SIGNR can also internalize and mediate proteasome-dependant degradation of viruses [4] that may differently affect the outcome of infection.\\n\\nGiven the presence of DC-SIGNR at the maternal-fetal interface and its interaction with HIV-1, we hypothesized that it could influence MTCT of HIV-1. To investigate the potential role of DC-SIGNR in MTCT of HIV-1, we carried out a genetic association study of DC-SIGNR in a well-characterized cohort of HIV-infected mothers and their infants recruited in Zimbabwe, and identified specific DC-SIGNR variants associated with increased risks of HIV transmission. We further characterized the functional impact of these genetic variants on DC-SIGNR expression and show that they affect both the level and type of DC-SIGNR transcripts produced in the placenta.\\n\\nSamples consisted of stored DNA extracts obtained from 197 mother-child pairs co-enrolled immediately postpartum in the ZVITAMBO Vitamin A supplementation trial (Harare, Zimbabwe) and followed at 6 weeks, and 3-monthly intervals up to 24 months. The ZVITAMBO project was a randomized placebocontrolled clinical trial that enrolled 14,110 mother-child pairs, between November 1997 and January 2000, with the main objective of investigating the impact of immediate postpartum vitamin A supplementation on MTCT of HIV-1. The samples used in the present study were from mother-child pairs randomly assigned to the placebo group of the ZVITAMBO project. Antiretroviral prophylaxis for HIV-1-positive antenatal women was not available in the Harare public-sector during ZVITAMBO patient recruitment. The samples were consecutively drawn from two groups: 97 HIV-1-positive mother/HIV-1-positive child pairs and 100 HIV-1-positive mother/HIV-negative child pairs. Mother's serological status was determined by ELISA and confirmed by Western Blot. Infants were considered to be infected if they were HIV-1 seropositive at 18 months or older and had two or more positive HIV-1-DNA polymerase chain reaction (PCR) results at earlier ages. 100 infants were considered to be uninfected as they were ELISA negative at 18 months or older and had two DNA PCR negative results from samples collected at a younger age. Of the 97 HIV-1-infected infants, 57 were infected IU, 11 were infected IP, and 17 were infected PP as determined by PCR analyses of blood samples collected at birth, 6 weeks, 3 and 6 months of age and according to the following definitions adapted from Bryson and colleagues [5] . Briefly, infants who were DNA PCR positive at birth were infected IU. Infants with negative PCR results from sample obtained at birth but who become positive by 6 weeks of age were infected IP. Infants with negative PCR results at birth and 6 weeks of age but who subsequently became DNA PCR positive were considered to be infected during the PP period. In the analysis comparing the 3 different modes of MTCT, 12 HIV-1-infected infants were excluded because the PCR results were not available at 6 weeks of age. Full methods for recruitment, baseline characteristics collection, laboratory procedures have been described elsewhere [6] .\\n\\nThe nucleotide sequence variation of the entire promoter, coding and part of 39-UTR regions of DC-SIGNR gene in the study population was determined previously [7] . Haplotype reconstruction was performed using Bayesian statistical method implemented in PHASE [8] , version 2.1.1, using single nucleotide polymorphism (SNP) with a minimum allele frequency (MAF) of 2%. We applied the algorithm five times, using different randomly generated seeds, and consistent results were obtained across runs ( Figure 1 ). Fifteen haplotype-tagged SNPs (htSNPs) were identified by the HaploBlockFinder software [9] with a MAF $5%. These htSNPs were genotyped in the 197 infants by direct PCR sequencing analysis as we have described previously [7] . The DC-SIGNR exon 4 repeat region genotype was determined by PCR amplification followed by migration in 1.5% agarose gels [10] . DNA sequences in the promoter region were analysed with the TESS interface (http//:www.cbil.upenn.edu/tess) for putative transcription factors binding sites using the TRANSFAC database.\\n\\nLuciferase reporter assays using pGL2-Basic vector were performed in order to investigate the functional effect of mutations on DC-SIGNR promoter activity. Genomic DNA from subjects homozygous for the promoter variants and WT was amplified from nucleotide position 2715 to 21 and cloned between the BglII and HindIII multiple cloning sites in the pGL2-Basic vector which harbours a reporter firefly luciferase gene downstream (Invitrogen Canada inc, Burlington, Canada). All recombinants clones were verified by DNA sequencing. The firefly luciferase test reporter vector was co-transfected at a ratio of 10:1 with the constitutive expressor of Renilla luciferase, phRL-CMV (Promega, Madison, WI, USA). We cultured HeLa cells in 6 wells plates (2610 5 cells) and transfected them the following day using lipofectamine (Invitrogen) according to the manufacturer. Cells were lysed and luciferase assays were performed using 20 mg of protein extract according to the manufacturer (Promega) at 44 h post-transfection. Firefly luciferase activity was normalized to Renilla luciferase activity. 0 mg, 0,5 mg or 1 mg CMV-Tat vector was transfected with LTR-Luc as a positive control in these experiments. We carried out lucierase assays in triplicate in three independent experiments. Results are expressed as mean6 standard error of the mean (S.E.M).\\n\\nFirst-term placental tissues were obtained from abortions following voluntary interruption of pregnancy at CHUM Hôpital Saint-Luc (Montreal, Canada). Tissues from 3 H1 (associated with MTCT of HIV-1) and 3 H15 (wild-type) homozygous haplotypes were used to analyse possible differences in isoform expression. Total placental RNAs were extracted by MasterPure DNA and RNA Extraction Kit (Epicentre Biotechnologies, Madison, WI, USA) according to the manufacturer. Fragments corresponding to the DC-SIGNR coding region were reversed transcribed (RT) and then amplified by nested PCR with the following primers; RT primers RR, first PCR RF and RR and second PCR RcF and RcR according to Liu and colleagues [11] . 1 mg of total RNA was reverse transcribed with Expand RT (Roche Applied Science, Indianapolis, IN, USA) according to the manufacturer and were PCR-amplified with DNA Platinum Taq Polymerase (Invitrogen). Major PCR products from the second PCR reaction were gel extracted with the Qiagen Gel Extraction Kit (Qiagen Canada inc, Mississauga, ON, Canada) and cloned using the TOPO TA Cloning Kit for sequencing (Invitrogen). For each placenta, 15 different clones were randomly selected and amplified with M13 primers and sequenced with ABI PRISM 3100 capillary automated sequencer (Applied Biosystems, Foster City, CA, USA). Sequences were analysed and aligned with GeneBank reference sequence NM_014257 using Lasergene software (DNA Stars, Madison, WI, USA).\\n\\nQuantitative expression of DC-SIGNR isoforms 1,5 mg of placental RNA was reverse transcribed using 2.5 mM of Oligo dT 20 and Expand RT in 20 ml volume according to the manufacturer (Roche Applied Science). 15 ng of total cDNA in a final volume of 20 ml was used to perform quantitative real-time PCR using Universal Express SYBR GreenER qPCR Supermix (Invitrogen) on a Rotor Gene Realtime Rotary Analyser (Corbett Life Science, Sydney, Australia). Samples from 2 subjects in each group were used because RNA quality of others was not suitable for a qRT-PCR analysis. Amplification of all DC-SIGNR isoforms was performed using an exon 5 specific primer pair (Table S1 ). Membrane-bound isoforms were amplified using primers specific for exon 3, corresponding to the common trans-membrane domain of DC-SIGNR. Primers were targeted to the exon-exon junction and RNA extracts were treated with DNase (Fermantas International inc, Burlington, ON, Canada) to avoid amplification of contaminant DNA. Standard curves (50-500 000 copies per reaction) were generated using serial dilution of a full-length DC-SIGNR or commercial GAPDH (Invitrogen) plasmid DNA. All qPCR reactions had efficiencies ranging from 99% to 100%, even in the presence of 20 ng of non-specific nucleic acids, and therefore could be compared. The copy number of unknown samples was estimated by placing the measured PCR cycle number (crossing threshold) on the standard curve. To correct for differences in both RNA quality and quantity between samples, the expression levels of transcripts were normalised to the reference GAPDH gene transcripts. GAPDH primer sequences were kindly provided by A. Mes-Masson at the CHUM. The results are presented as target gene copy number per 10 5 copies of GAPDH. The ratio of membrane-bound isoforms was calculated as E3/E5. Soluble isoforms were calculated by subtracting membrane-bound from total isoforms. We carried out qPCR assays in triplicate in three independent experiments. Results are expressed as mean6S.E.M.\\n\\nStatistical analysis was performed using the GraphPad PRISM 5.0 for Windows (GraphPad Software inc, San Diego, CA, USA). Differences in baseline characteristics and genotypic frequencies of haplotypes or htSNPs were compared between groups using the x 2 analysis or Fisher's exact test. Logistic regression analysis was used to estimate odds ratios (OR) for each genotype and baseline risk factors. Multiple logistic regression was used to define independent predictors identified as significant in the crude analysis. ORs and 95% confidence interval were calculated with the exact method. Comparisons of continuous variables between groups were assessed with the unpaired two-tailed Student's t test when variables were normally distributed and with the Mann-Whitney U test when otherwise. Differences were considered significant at P,0.05.\\n\\nWritten informed consent was obtained from all mothers who participated in the study and the ZVITAMBO trial and the investigation reported in this paper were approved by The \\n\\nWe carried out an association study of DC-SIGNR polymorphism in 197 infants born to untreated HIV-1-infected mothers recruited in Harare, Zimbabwe. Among them, 97 infants were HIV-1-infected and 100 infants remained uninfected. Of the 97 HIV-1-infected infants, 57 were infected IU, 11 were infected IP, and 17 were infected PP. Timing of infection was not determined for 12 HIV-1-infected infants. Baseline characteristics of mothers and infants are presented in Table 1 . Maternal age and CD4 cell count, child sex, mode of delivery, duration of membrane rupture and gestational age were similar among all groups. However, maternal viral load .29 000 copies/ml was associated with increased risk in both IU and PP with odds ratios (OR) of 3.64 (95% CI = 1.82-7.31, P = 0.0002) and 4.45 (95% CI = 1.50-13.2, P = 0.0045) for HIV-1 transmission, respectively.\\n\\nFifteen haplotype-tagged SNPs (htSNPs) corresponding to the 15 major DC-SIGNR haplotypes ( Figure 1 ) described among Zimbabweans [7] were genotyped in our study samples (Tables S2  and S3 ). H1 (31%) and H3 (11%) were the most frequent haplotypes observed (Figure 1 ). Being homozygous for the H1 haplotype was associated with increased risk of both IU (OR: 4.42, P = 0.022) and PP (OR: 7.31, P = 0.016) HIV-1 transmission ( Table 2) . Infants harbouring two copy combinations of H1 and/ or H3 haplotypes (H1-H1, H1-H3 or H3-H3) had increased risk of IU (OR: 3.42, P = 0.007) and IP (OR: 5.71, P = 0.025) but not PP (P = 0.098) HIV-1 infection compared to infant noncarriers ( Table 2 ). The latter associations remained significant after adjustment was made for the maternal viral load for both IU (OR: 3.57, 95% CI = 1.30-9.82, P = 0.013) and IP (OR: 5.71, 95% CI = 1.40-23.3, P = 0.025) HIV-1 transmission. The H1 and H3 haplotypes share a cluster of mutations (p-198A, int2-391C, int2-180A, ex4RPT, int5+7C) ( Figure 1 ). Of these, the p-198A and int2-180A variants were significantly associated with MTCT of HIV-1 (Table S2 ). In the unadjusted regression analysis, homozygous infants for the p-198A and int2-180A variants had increased risk of IU (OR: 2.07 P = 0.045, OR: 3.78, P = 0.003, respectively) and IP (OR: 2.47, P = 0.17, O.R: 5.71, P = 0.025, respectively) HIV-1 infection compared to heterozygote infants or noncarriers (Table 3) . When adjustment was made for maternal factors, only the association with the int2-180A variant remained significant for IU (OR: 3.83, 95% CI = 1.42-10.4, P = 0.008) and IP (O.R: 5.71, 95% CI = 1.40-23.3, P = 0.025) HIV-1 transmission. Thus, infants homozygous for DC-SIGNR variant int2-180A contained in H1 and H3 haplotypes were 4-fold to 6-fold more likely to be infected by HIV-1 during pregnancy or at delivery, respectively.\\n\\nAlternative splicing of the DC-SIGNR gene in the placenta produces both membrane-bound and soluble isoform repertoires [3] . The relative proportion of membrane bound and soluble DC-SIGNR could plausibly influence the susceptibility to HIV-1 infection [11] . We therefore hypothesized that the DC-SIGNR mutations associated with MTCT of HIV-1 would have an impact on both the level of DC-SIGNR expression and in the isoform repertoire produced. We investigated DC-SIGNR transcript expression in first-term placentas obtained after elective abortion.\\n\\nWe cloned DC-SIGNR from placental tissues by RT-PCR from 3 homozygous H1 samples containing both the DC-SIGNR p-198AA and int2-180AA variants associated with HIV-1 transmission and 3 homozygous wild-type (WT) (p-198CC, int2-180GG) samples. Fifteen clones per sample were randomly selected for sequencing. As expected, we found an extensive repertoire of DC-SIGNR transcripts in all samples with 9 to 16 different isoforms per individual. A total of 65 distinct transcripts were identified ( Figure S1 ), of which 3 were full-length transcripts. 64 of the sequenced clones contained a total of 69 amino acid substitutions with 3 new C termini and 2 premature stop codons. However, the diversity was mostly attributable to the entire deletion of exon 2 or exon 3 or to variations in the length of the neck region (exon 4) of DC-SIGNR. The deletion of exon 3 eliminates the trans-membrane domain of the protein and leads to the expression of soluble DC-SIGNR isoforms [3] . Interestingly, the abundance of membrane-bound isoforms in placental tissues of the H1 homozygotes appears to be lower than that observed in samples from WT individuals ( Figure S1 ). The deletion of exon 3 was confirmed by sequencing and we hypothesize that the skipping of exon 3, could be due to the presence of the int2-180A mutation observed in infants with the H1 haplotype. In fact, this intron mutation is located 180 bp downstream from exon 3 and potentially modifies splicing events (Figure 2A ). We confirmed that the variation in transcript proportions seen between the two groups was also reflected at the level of mRNA expression in the placenta. To quantify membrane-bound vs soluble isoforms in placental samples from homozygous H1 and WT infants, we amplified the exon 5 (E5) sequence present in all DC-SIGNR isoforms (total transcripts). We then amplified exon 3 (E3) which is deleted in the soluble forms and then calculated the E3:E5 ratio. We found that placental tissues from homozygous H1 infants express a significantly lower proportion of membrane-bound DC-SIGNR (18%) compared to that in WT individuals (36%) (P = 0.004) ( Figure 2B ) suggesting that exon 3 skipping happens more frequently in presence of the DC-SIGNR int2-180A variant associated with MTCT of HIV-1.\\n\\nThe DC-SIGNR int2-180A variant is always transmitted with the promoter mutation p-198A (Figure 1 ). In the unadjusted regression analysis, the p-198A variant was significantly associated with IU but not with IP and PP HIV-1 transmission (Table 3) . Computational transcription factor binding site analysis predicts Table 1 . Baseline characteristics of mother and infants risk factors for intrauterine (IU), intrapartum (IP) and postpartum (PP) mother-to-child HIV-1 transmission. Figure 3A ). The luciferase activity of the p-198A variant construct was significantly lower than that of the WT p-198C promoter construct (p-198C/A ratio = 2, P = 0.006) ( Figure 3B ) suggesting that DC-SIGNR p-198A affects promoter activity. The other promoter mutants (p-577C and p-323A) observed in the Zimbabwean population did not affect DC-SIGNR transcription in this assay ( Figure S2 ). To determine the net impact of the DC-SIGNR p-198A mutation on DC-SIGNR expression in the placenta, we quantitated the absolute number of total and membrane-bound DC-SIGNR transcripts in the H1 homozygote and wild-type placental samples as described earlier. The total number of DC-SIGNR transcripts was determined to be 6856213 (DC-SIGNR copies6S.E.M per 10 5 GAPDH copies) in the placental samples from homozygous H1 infants and was 4-fold lower compared to that found in placentas from WT individuals (27816638, P = 0.011) ( Figure 3C ). As suggested earlier, the int2-180A mutation might induce exon 3 skipping leading to a lower production of membrane-bound DC-SIGNR. Although, the decrease in the total number of DC-SIGNR transcripts in H1 homozygous placental samples containing both the p-198AA and int2-180AA variants affected the proportion of membrane-bound and soluble isoforms, the effect of these mutations was more pronounced on the membrane-bound isoforms with an 8-fold decrease (H1 = 117636.2 vs WT = 9906220.6, P = 0.003) compared to a 3-fold decrease in total soluble isoforms (H1 = 5686181.9 vs WT = 19256495.3, P = 0.03) ( Figure 3C ). Therefore, DC-SIGNR p-198A and int2-180A mutations associated with MTCT of HIV-1 significantly decreased the level of total placental DC-SIGNR transcripts, disproportionately affecting the membrane-bound isoform production. Table 3 . Associations between infant DC-SIGNR promoter p-198 and intron 2 (int2)-180 variants and intrauterine (IU), intrapartum (IP) and postpartum (PP) mother-to-child HIV-1 transmission. \\n\\nOur genetic results, supported by expression assay in placenta, suggest the involvement of DC-SIGNR in MTCT of HIV-1. Homozygosity for the haplotype H1 was associated with IU transmission in the unadjusted regression analysis. However, the association disappeared after adjustment was made for the maternal factors presumably because of the small number of H1 homozygote infants analysed in each groups. H1 and H3 were the most frequent haplotypes observed in the study population and they share a cluster of mutations (Figure 1 ). Grouping haplotypes H1 and H3 increased the power of the study and permitted the identification of specific DC-SIGNR mutations associated with MTCT of HIV-1. Indeed, two mutations shared by haplotypes H1 and H3 were associated with vertical transmission of HIV-1. The int2-180A was associated with a 4-fold increased risk of IU and 6fold increased risk of IP after adjustment for the maternal factors. Although the p-198A variant was associated with IU transmission, the association disappeared after adjustment was made for the maternal viral load. Nevertheless, we showed that this mutation reduces DC-SIGNR transcriptional activity in vitro and produces lower level of DC-SIGNR transcripts in placental tissues in combination with the int2-180A variant. Since int2-180A is always transmitted with p-198A on the MTCT associated combined haplotypes H1/H3, whereas p-198A is carried on other nonassociated haplotypes (Figure 1) , we can speculate that the p-198A mutation alone may have a minor effect in vivo whereas in combination with the int2-180A variant, they both act to reduce the level of placental DC-SIGNR expression resulting in an increased risk of MTCT of HIV-1.\\n\\nThe majority of IU transmission occurs during the last trimester of pregnancy (reviewed in [12] ). Full-term placenta samples were not available for the current study and the expression assays were performed on first-term placental tissues. A previous study looking at DC-SIGNR placental isoforms repertoire in full-term placenta samples demonstrated similar diversity of DC-SIGNR transcripts as in the first-term placental tissues studied herein [3] . However, since levels of DC-SIGNR expression have never been compared between the different terms of pregnancy, it is not known whether DC-SIGNR expression varies during the course of pregnancy. Nevertheless, it is reasonable to assume that the inter-individual differences in both DC-SIGNR isoform repertoire and transcript levels observed between the H1 and WT homozygous infants would be reflected throughout the pregnancy. To date, most studies have focused on the potential role of DC-SIGNR in trans infection of HIV-1 in vitro [2, 10] . However, the multiple mechanisms involved in trans infection and redundancy among C-type lectin functions make it difficult to determine the actual participation of DC-SIGNR in this mode of infection in vivo [13, 14] . The strong correlation we observed between MTCT of HIV-1 and DC-SIGNR genetic variants producing low levels of DC-SIGNR in the placenta suggested that mechanisms other than DC-SIGNR-mediated trans infection might operate during vertical transmission of HIV-1. For example, DC-SIGNR has also been shown to function as a HIV-1 antigen-capturing receptor [15] . Chan and colleagues recently demonstrated that DC-SIGNR transfected CHO cells diminish SARS-CoV titers by enhanced capture and degradation of the virus in a proteasome-dependent manner [4] . Since endothelial cells express MHC-I and II, degraded viral antigens could then be presented to immune cells to elicit an adaptive immune response [16, 17] . The HIV-1 coreceptor CCR5, but not CD4, is co-expressed with DC-SIGNR on placental and blood-brain barrier (BBB) endothelial cells [18, 19] . HIV-1 gp120 binding to CCR5 receptor on endothelial cells compromises BBB integrity and enhances monocytes adhesion and transmigration across the BBB [20, 21] . It is thus possible that reduced expression of DC-SIGNR, particularly the membranebound isoforms, on placental capillary endothelial cells might favour HIV-1 binding to CCR5 receptor, instead of DC-SIGNR receptor, facilitating the migration of maternal HIV-1-infected cells across the placental barrier resulting in IU transmission of HIV-1.\\n\\nThe int2-180A variant contained in the H1 and H3 haplotypes was associated with IP transmission suggesting that DC-SIGNR also affect transmission of HIV-1 during delivery. Little is known about the mechanisms underlying transmission of HIV-1 during delivery. Passage through the birth canal could potentially expose infants through a mucosal portal entry (presumably ophthalmic, skin, or gastrointestinal), whereas placental insult during delivery (physical or inflammatory) may enhance transplacental passage of maternal HIV-1-infected cells into foetal circulation [22, 23] . Such process called microtransfusion has been proposed in regards to the results obtain in a Malawian cohort. Kweik and colleagues found a significant association between levels of maternal DNA in umbilical cord blood and IP transmission of HIV-1 suggesting that passage of maternal infected cells through the placenta is likely to occur during delivery [22] . Thus, in a similar fashion as suggested earlier for IU transmission, the relatively lower level of DC-SIGNR in the placenta of homozygous infants harbouring the int2-180A variant could promote HIV-1 binding to CCR5 receptor on endothelial cells affecting the placental barrier integrity and facilitating the passage of maternal infected cells in foetal circulation during delivery.\\n\\nBeside DC-SIGNR, other HIV-1 receptors are known to influence MTCT of HIV-1 (reviewed in [24] ). Genetic variants in CCR5 have been shown to influence vertical transmission of HIV-1. CCR5 promoter variants resulting in higher expression of the receptor were associated with increased risk of MTCT of HIV-1 among sub-Saharan Africans [25, 26] . The 32-pb deletion polymorphism in CCR5 has be shown to protect from vertical transmission of HIV-1 [27] , but this variant is virtually absent among African populations [28] . High copy numbers of CCL3L1, a potent HIV-1 suppressive ligand for CCR5, are associated with higher chemokine production and lower risk of MTCT of HIV-1 among South African infants [29, 30] . Mannose-binding lectin (MBL) is an innate immune receptor synthesised in the liver and secreted in the bloodstream in response to inflammation signal. MBL promotes pathogen elimination by opsonization and phagocytosis, and reduced expression of MBL resulting from polymorphism in coding and non-coding regions has been associated with an increased risk of MTCT of HIV-1 [31, 32] .\\n\\nIn this study, we demonstrate for the first time, the potential functional impact of DC-SIGNR mutations on its expression in the placenta and in vertical transmission of HIV-1. We believe that the presence of DC-SIGNR at the placental endothelial cell surface may protect infants from HIV-1 infection by capturing virus and promoting its degradation/presentation. However, in placenta containing low levels of DC-SIGNR, HIV-1 would preferentially binds CCR5 on endothelial cells resulting in a loss of placental barrier integrity and enhanced passage of maternal HIV-1-infected cells in foetal circulation leading to MTCT of HIV-1. This mechanism may also apply to other vertically-transmitted pathogens known to interact with DC-SIGNR such as HIV-2, hepatitis C and dengue viruses and warrant further investigation. \\n\\nAssociations between child DC-SIGNR exon 4 repeated region genotypes and mother-to-child HIV-1 transmission.CI, Confidence interval; N, number; NA; not applicable; OR, odds ratio a P-value as determined by the Chi-square test. b Comparison between genotype and all others. Found at: doi:10.1371/journal.pone.0007211.s003 (0.05 MB DOC) Figure S1 DC-SIGNR transcripts repertoire in placenta. Major RT-PCR products from RNA extract from 3 homozygous H1 and 3 homozygous WT placenta samples were purified, cloned and sequenced. Sequenced were analysed according to NCBI reference sequence NM_014257. CT; cytoplasmic tail, TM; trans-membrane domain; WT; wild-type Found at: doi:10.1371/journal.pone.0007211.s004 (0.11 MB DOC) Figure S2 Effect of DC-SIGNR promoter variant on transcriptional activity in luciferase reporter assay in vitro in transfected HeLa cells. Relative luciferase expression from pGL2-Basic, parental vector without promoter. Expression DC-SIGNR promoter constructs, spanning p-577C variant or p-323A variant were calculated relatively to this value. Data are presented in mean values6S.E.M of three independent experiments performed in triplicate. One-way ANOVA test followed by the Dunnett test for multiple comparison was used to compare the relative luciferase expression of the p-557C and p-323A variant reporters against the wild-type (WT) construct (not significant). 0 mg, 0,5 mg or 1 mg CMV-Tat vector was transfected with LTR-Luc as a positive control in these experiments.\""
      ]
     },
     "execution_count": 35,
     "metadata": {},
     "output_type": "execute_result"
    }
   ],
   "source": [
    "covidqa_orig.iloc[0].values[0]['paragraphs'][0]['context']"
   ]
  },
  {
   "cell_type": "code",
   "execution_count": 37,
   "id": "7a024f4f",
   "metadata": {},
   "outputs": [
    {
     "data": {
      "text/plain": [
       "{'question': 'What is the main cause of HIV-1 infection in children?',\n",
       " 'id': 262,\n",
       " 'answers': [{'text': 'Mother-to-child transmission (MTCT) is the main cause of HIV-1 infection in children worldwide. ',\n",
       "   'answer_start': 370}],\n",
       " 'is_impossible': False}"
      ]
     },
     "execution_count": 37,
     "metadata": {},
     "output_type": "execute_result"
    }
   ],
   "source": [
    "covidqa_orig.iloc[0].values[0]['paragraphs'][0]['qas'][0]"
   ]
  },
  {
   "cell_type": "markdown",
   "id": "a664b764",
   "metadata": {},
   "source": [
    "### TREC-COVID (BEIR)\n",
    "\n",
    "> **Объем корпуса**: 171k\n",
    ">\n",
    "> **Объем изначальных запросов**: 50 \n",
    ">\n",
    "> **Объем сгенерированных запросов**: 480k - если почистить, то будет где-то 367k"
   ]
  },
  {
   "cell_type": "code",
   "execution_count": 50,
   "id": "e13e78e3",
   "metadata": {},
   "outputs": [
    {
     "data": {
      "application/vnd.jupyter.widget-view+json": {
       "model_id": "33b300c91b80415da28986c57d9ded3b",
       "version_major": 2,
       "version_minor": 0
      },
      "text/plain": [
       "README.md: 0.00B [00:00, ?B/s]"
      ]
     },
     "metadata": {},
     "output_type": "display_data"
    },
    {
     "name": "stderr",
     "output_type": "stream",
     "text": [
      "c:\\Users\\anna-\\Jupyter\\quote-mipt\\.venv\\Lib\\site-packages\\huggingface_hub\\file_download.py:143: UserWarning: `huggingface_hub` cache-system uses symlinks by default to efficiently store duplicated files but your machine does not support them in C:\\Users\\anna-\\.cache\\huggingface\\hub\\datasets--mteb--trec-covid. Caching files will still work but in a degraded version that might require more space on your disk. This warning can be disabled by setting the `HF_HUB_DISABLE_SYMLINKS_WARNING` environment variable. For more details, see https://huggingface.co/docs/huggingface_hub/how-to-cache#limitations.\n",
      "To support symlinks on Windows, you either need to activate Developer Mode or to run Python as an administrator. In order to activate developer mode, see this article: https://docs.microsoft.com/en-us/windows/apps/get-started/enable-your-device-for-development\n",
      "  warnings.warn(message)\n"
     ]
    },
    {
     "data": {
      "application/vnd.jupyter.widget-view+json": {
       "model_id": "aa6d473067f04452af5cfaf69bc6b68a",
       "version_major": 2,
       "version_minor": 0
      },
      "text/plain": [
       "corpus.jsonl:   0%|          | 0.00/200M [00:00<?, ?B/s]"
      ]
     },
     "metadata": {},
     "output_type": "display_data"
    },
    {
     "data": {
      "application/vnd.jupyter.widget-view+json": {
       "model_id": "7831a678820f4190ae00c54c899ad392",
       "version_major": 2,
       "version_minor": 0
      },
      "text/plain": [
       "Generating corpus split:   0%|          | 0/171332 [00:00<?, ? examples/s]"
      ]
     },
     "metadata": {},
     "output_type": "display_data"
    }
   ],
   "source": [
    "dataset_name = \"BeIR/trec-covid\"\n",
    "corpus = load_dataset('mteb/trec-covid', \"corpus\", split=\"corpus\")\n",
    "queries = load_dataset(f'{dataset_name}-generated-queries', split=\"train\")\n",
    "qrels = load_dataset(f\"{dataset_name}-qrels\", \"default\", split=\"test\")"
   ]
  },
  {
   "cell_type": "code",
   "execution_count": 58,
   "id": "d4ea0e63",
   "metadata": {},
   "outputs": [],
   "source": [
    "corpus = pd.DataFrame(corpus)\n",
    "queries = pd.DataFrame(queries)\n",
    "qrels = pd.DataFrame(qrels)"
   ]
  },
  {
   "cell_type": "code",
   "execution_count": 73,
   "id": "50a5b665",
   "metadata": {},
   "outputs": [
    {
     "data": {
      "text/html": [
       "<div>\n",
       "<style scoped>\n",
       "    .dataframe tbody tr th:only-of-type {\n",
       "        vertical-align: middle;\n",
       "    }\n",
       "\n",
       "    .dataframe tbody tr th {\n",
       "        vertical-align: top;\n",
       "    }\n",
       "\n",
       "    .dataframe thead th {\n",
       "        text-align: right;\n",
       "    }\n",
       "</style>\n",
       "<table border=\"1\" class=\"dataframe\">\n",
       "  <thead>\n",
       "    <tr style=\"text-align: right;\">\n",
       "      <th></th>\n",
       "      <th>_id</th>\n",
       "      <th>title</th>\n",
       "      <th>text</th>\n",
       "      <th>query</th>\n",
       "    </tr>\n",
       "  </thead>\n",
       "  <tbody>\n",
       "    <tr>\n",
       "      <th>0</th>\n",
       "      <td>ug7v899j</td>\n",
       "      <td>Clinical features of culture-proven Mycoplasma...</td>\n",
       "      <td>OBJECTIVE: This retrospective chart review des...</td>\n",
       "      <td>what is pneumoniae infection prevalence</td>\n",
       "    </tr>\n",
       "    <tr>\n",
       "      <th>1</th>\n",
       "      <td>02tnwd4m</td>\n",
       "      <td>Nitric oxide: a pro-inflammatory mediator in l...</td>\n",
       "      <td>Inflammatory diseases of the respiratory tract...</td>\n",
       "      <td>does nitric oxide cause inflammation</td>\n",
       "    </tr>\n",
       "    <tr>\n",
       "      <th>2</th>\n",
       "      <td>ejv2xln0</td>\n",
       "      <td>Surfactant protein-D and pulmonary host defense</td>\n",
       "      <td>Surfactant protein-D (SP-D) participates in th...</td>\n",
       "      <td>which microorganisms are affected by surfactant-d</td>\n",
       "    </tr>\n",
       "    <tr>\n",
       "      <th>3</th>\n",
       "      <td>2b73a28n</td>\n",
       "      <td>Role of endothelin-1 in lung disease</td>\n",
       "      <td>Endothelin-1 (ET-1) is a 21 amino acid peptide...</td>\n",
       "      <td>what is a et1</td>\n",
       "    </tr>\n",
       "    <tr>\n",
       "      <th>4</th>\n",
       "      <td>9785vg6d</td>\n",
       "      <td>Gene expression in epithelial cells in respons...</td>\n",
       "      <td>Respiratory syncytial virus (RSV) and pneumoni...</td>\n",
       "      <td>what is the epithelial cellular response</td>\n",
       "    </tr>\n",
       "  </tbody>\n",
       "</table>\n",
       "</div>"
      ],
      "text/plain": [
       "        _id                                              title  \\\n",
       "0  ug7v899j  Clinical features of culture-proven Mycoplasma...   \n",
       "1  02tnwd4m  Nitric oxide: a pro-inflammatory mediator in l...   \n",
       "2  ejv2xln0    Surfactant protein-D and pulmonary host defense   \n",
       "3  2b73a28n               Role of endothelin-1 in lung disease   \n",
       "4  9785vg6d  Gene expression in epithelial cells in respons...   \n",
       "\n",
       "                                                text  \\\n",
       "0  OBJECTIVE: This retrospective chart review des...   \n",
       "1  Inflammatory diseases of the respiratory tract...   \n",
       "2  Surfactant protein-D (SP-D) participates in th...   \n",
       "3  Endothelin-1 (ET-1) is a 21 amino acid peptide...   \n",
       "4  Respiratory syncytial virus (RSV) and pneumoni...   \n",
       "\n",
       "                                               query  \n",
       "0            what is pneumoniae infection prevalence  \n",
       "1               does nitric oxide cause inflammation  \n",
       "2  which microorganisms are affected by surfactant-d  \n",
       "3                                      what is a et1  \n",
       "4           what is the epithelial cellular response  "
      ]
     },
     "execution_count": 73,
     "metadata": {},
     "output_type": "execute_result"
    }
   ],
   "source": [
    "queries.head()"
   ]
  },
  {
   "cell_type": "code",
   "execution_count": 74,
   "id": "284bf7da",
   "metadata": {},
   "outputs": [
    {
     "data": {
      "text/plain": [
       "(480036, 4)"
      ]
     },
     "execution_count": 74,
     "metadata": {},
     "output_type": "execute_result"
    }
   ],
   "source": [
    "queries.shape"
   ]
  },
  {
   "cell_type": "code",
   "execution_count": 61,
   "id": "82eda472",
   "metadata": {},
   "outputs": [
    {
     "data": {
      "text/html": [
       "<div>\n",
       "<style scoped>\n",
       "    .dataframe tbody tr th:only-of-type {\n",
       "        vertical-align: middle;\n",
       "    }\n",
       "\n",
       "    .dataframe tbody tr th {\n",
       "        vertical-align: top;\n",
       "    }\n",
       "\n",
       "    .dataframe thead th {\n",
       "        text-align: right;\n",
       "    }\n",
       "</style>\n",
       "<table border=\"1\" class=\"dataframe\">\n",
       "  <thead>\n",
       "    <tr style=\"text-align: right;\">\n",
       "      <th></th>\n",
       "      <th>_id</th>\n",
       "      <th>title</th>\n",
       "      <th>text</th>\n",
       "    </tr>\n",
       "  </thead>\n",
       "  <tbody>\n",
       "    <tr>\n",
       "      <th>0</th>\n",
       "      <td>ug7v899j</td>\n",
       "      <td>Clinical features of culture-proven Mycoplasma...</td>\n",
       "      <td>OBJECTIVE: This retrospective chart review des...</td>\n",
       "    </tr>\n",
       "    <tr>\n",
       "      <th>1</th>\n",
       "      <td>02tnwd4m</td>\n",
       "      <td>Nitric oxide: a pro-inflammatory mediator in l...</td>\n",
       "      <td>Inflammatory diseases of the respiratory tract...</td>\n",
       "    </tr>\n",
       "    <tr>\n",
       "      <th>2</th>\n",
       "      <td>ejv2xln0</td>\n",
       "      <td>Surfactant protein-D and pulmonary host defense</td>\n",
       "      <td>Surfactant protein-D (SP-D) participates in th...</td>\n",
       "    </tr>\n",
       "    <tr>\n",
       "      <th>3</th>\n",
       "      <td>2b73a28n</td>\n",
       "      <td>Role of endothelin-1 in lung disease</td>\n",
       "      <td>Endothelin-1 (ET-1) is a 21 amino acid peptide...</td>\n",
       "    </tr>\n",
       "    <tr>\n",
       "      <th>4</th>\n",
       "      <td>9785vg6d</td>\n",
       "      <td>Gene expression in epithelial cells in respons...</td>\n",
       "      <td>Respiratory syncytial virus (RSV) and pneumoni...</td>\n",
       "    </tr>\n",
       "  </tbody>\n",
       "</table>\n",
       "</div>"
      ],
      "text/plain": [
       "        _id                                              title  \\\n",
       "0  ug7v899j  Clinical features of culture-proven Mycoplasma...   \n",
       "1  02tnwd4m  Nitric oxide: a pro-inflammatory mediator in l...   \n",
       "2  ejv2xln0    Surfactant protein-D and pulmonary host defense   \n",
       "3  2b73a28n               Role of endothelin-1 in lung disease   \n",
       "4  9785vg6d  Gene expression in epithelial cells in respons...   \n",
       "\n",
       "                                                text  \n",
       "0  OBJECTIVE: This retrospective chart review des...  \n",
       "1  Inflammatory diseases of the respiratory tract...  \n",
       "2  Surfactant protein-D (SP-D) participates in th...  \n",
       "3  Endothelin-1 (ET-1) is a 21 amino acid peptide...  \n",
       "4  Respiratory syncytial virus (RSV) and pneumoni...  "
      ]
     },
     "execution_count": 61,
     "metadata": {},
     "output_type": "execute_result"
    }
   ],
   "source": [
    "corpus.head()"
   ]
  },
  {
   "cell_type": "code",
   "execution_count": 60,
   "id": "2c8f2022",
   "metadata": {},
   "outputs": [
    {
     "data": {
      "text/html": [
       "<div>\n",
       "<style scoped>\n",
       "    .dataframe tbody tr th:only-of-type {\n",
       "        vertical-align: middle;\n",
       "    }\n",
       "\n",
       "    .dataframe tbody tr th {\n",
       "        vertical-align: top;\n",
       "    }\n",
       "\n",
       "    .dataframe thead th {\n",
       "        text-align: right;\n",
       "    }\n",
       "</style>\n",
       "<table border=\"1\" class=\"dataframe\">\n",
       "  <thead>\n",
       "    <tr style=\"text-align: right;\">\n",
       "      <th></th>\n",
       "      <th>query-id</th>\n",
       "      <th>corpus-id</th>\n",
       "      <th>score</th>\n",
       "    </tr>\n",
       "  </thead>\n",
       "  <tbody>\n",
       "    <tr>\n",
       "      <th>0</th>\n",
       "      <td>1</td>\n",
       "      <td>005b2j4b</td>\n",
       "      <td>2</td>\n",
       "    </tr>\n",
       "    <tr>\n",
       "      <th>1</th>\n",
       "      <td>1</td>\n",
       "      <td>00fmeepz</td>\n",
       "      <td>1</td>\n",
       "    </tr>\n",
       "    <tr>\n",
       "      <th>2</th>\n",
       "      <td>1</td>\n",
       "      <td>g7dhmyyo</td>\n",
       "      <td>2</td>\n",
       "    </tr>\n",
       "    <tr>\n",
       "      <th>3</th>\n",
       "      <td>1</td>\n",
       "      <td>0194oljo</td>\n",
       "      <td>1</td>\n",
       "    </tr>\n",
       "    <tr>\n",
       "      <th>4</th>\n",
       "      <td>1</td>\n",
       "      <td>021q9884</td>\n",
       "      <td>1</td>\n",
       "    </tr>\n",
       "  </tbody>\n",
       "</table>\n",
       "</div>"
      ],
      "text/plain": [
       "   query-id corpus-id  score\n",
       "0         1  005b2j4b      2\n",
       "1         1  00fmeepz      1\n",
       "2         1  g7dhmyyo      2\n",
       "3         1  0194oljo      1\n",
       "4         1  021q9884      1"
      ]
     },
     "execution_count": 60,
     "metadata": {},
     "output_type": "execute_result"
    }
   ],
   "source": [
    "qrels.head()"
   ]
  },
  {
   "cell_type": "code",
   "execution_count": 81,
   "id": "eefe690b",
   "metadata": {},
   "outputs": [
    {
     "data": {
      "text/plain": [
       "(367324, 4)"
      ]
     },
     "execution_count": 81,
     "metadata": {},
     "output_type": "execute_result"
    }
   ],
   "source": [
    "queries.query('`text` != \"\" and `query` != \"\"').shape"
   ]
  },
  {
   "cell_type": "code",
   "execution_count": 84,
   "id": "2c207a43",
   "metadata": {},
   "outputs": [
    {
     "data": {
      "text/plain": [
       "np.float64(1363.4602231272663)"
      ]
     },
     "execution_count": 84,
     "metadata": {},
     "output_type": "execute_result"
    }
   ],
   "source": [
    "queries.query('`text` != \"\" and `query` != \"\"').text.apply(len).mean()"
   ]
  }
 ],
 "metadata": {
  "kernelspec": {
   "display_name": "retrieval-research-mipt",
   "language": "python",
   "name": "python3"
  },
  "language_info": {
   "codemirror_mode": {
    "name": "ipython",
    "version": 3
   },
   "file_extension": ".py",
   "mimetype": "text/x-python",
   "name": "python",
   "nbconvert_exporter": "python",
   "pygments_lexer": "ipython3",
   "version": "3.12.11"
  }
 },
 "nbformat": 4,
 "nbformat_minor": 5
}
