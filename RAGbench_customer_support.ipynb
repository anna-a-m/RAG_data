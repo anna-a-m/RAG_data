{
 "cells": [
  {
   "cell_type": "markdown",
   "id": "9f6e1653",
   "metadata": {},
   "source": [
    "## RAG bench \n",
    "\n",
    "*Robert Friel, et. al. [RAGBench: Explainable Benchmark for Retrieval-Augmented Generation Systems](https://arxiv.org/abs/2407.11005). 25.06.24*\n",
    "\n",
    "> It covers five unique industry-specific domains and various RAG task types. RAGBench examples are sourced from industry corpora such as user manuals.\n",
    ">\n",
    ">**Source Domains**\n",
    "> - bio-medical research (PubmedQA, CovidQA), \n",
    "> - general knowledge (HotpotQA, MS Marco, HAGRID, ExperQA), \n",
    "> - legal contracts (CuAD), \n",
    "> - customer support (DelucionQA, EManual, TechQA), \n",
    "> - finance (FinBench, TAT-QA)\n",
    ">\n",
    "><p style=\"color: red;\">RAGBench component datasets contain between 1%- 20% hallucinations</p>"
   ]
  },
  {
   "cell_type": "markdown",
   "id": "d8710287",
   "metadata": {},
   "source": [
    "## Customer support Domain\n",
    "\n",
    "### DelucionQA\n",
    "\n",
    "> DelucionQA [33] is a curated collection of user queries on the operation of Jeep’s 2023 Gladiator model.\n",
    ">\n",
    "> **Document source**: Jeep manual\n",
    ">\n",
    "> **Question source**: LLM \n",
    ">\n",
    "> **Num docs**: 3 ??? Вроде мануал везде один, несколько только ретриверов\n",
    ">\n",
    "> **Average doc length in tokens**: 296 \n",
    ">\n",
    "> **Train, dev, test size**: (1.5k, 177, 182) ... трейн если чистить сильно меньше\n",
    "\n",
    "QA pairs were generated with `gpt-3.5-turbo-0125`, QA pairs were annotated with `gpt-4-turbo-2024-04-09`\n",
    "\n",
    "<p style=\"color: blue;\">Поскольку тут есть галлюцинации, не хочется пока трогать этот датасет. Очень тяжело оценить, насколько приводимые ответы и фрагменты текста действительно хорошие. Также минусы исходного датасета - нужно отдельно парсить сам мануал для джипа, чтобы получить контекст -> нужно больше времени на данные</p>"
   ]
  },
  {
   "cell_type": "code",
   "execution_count": 1,
   "id": "4548edd4",
   "metadata": {},
   "outputs": [],
   "source": [
    "from datasets import load_dataset\n",
    "import pandas as pd\n",
    "\n",
    "import requests\n",
    "import io"
   ]
  },
  {
   "cell_type": "code",
   "execution_count": null,
   "id": "0b1c2c9a",
   "metadata": {},
   "outputs": [],
   "source": [
    "response = requests.get('https://raw.githubusercontent.com/boschresearch/DelucionQA/refs/heads/main/data/DelucionQA_final/train.csv')\n",
    "initial = pd.read_csv(io.BytesIO(response.content))"
   ]
  },
  {
   "cell_type": "code",
   "execution_count": 69,
   "id": "d6191fcc",
   "metadata": {},
   "outputs": [
    {
     "data": {
      "text/plain": [
       "Retreival Setting\n",
       "Adaptive Ensemble Search     343\n",
       "Ensemble Retriever (Base)    328\n",
       "Lucene Search                323\n",
       "Ensemble Retriever           157\n",
       "Name: count, dtype: int64"
      ]
     },
     "execution_count": 69,
     "metadata": {},
     "output_type": "execute_result"
    }
   ],
   "source": [
    "initial['Retreival Setting'].value_counts()"
   ]
  },
  {
   "cell_type": "code",
   "execution_count": 97,
   "id": "b72dc752",
   "metadata": {},
   "outputs": [],
   "source": [
    "non_duplicated_non_hallucinated_answers = initial.query('`Label` == \"Not Hallucinated\" and `Answerable` == True')\\\n",
    "    [~initial.query('`Label` == \"Not Hallucinated\" and `Answerable` == True')[['Question', 'Answer']].duplicated()]"
   ]
  },
  {
   "cell_type": "code",
   "execution_count": 113,
   "id": "a795c7ec",
   "metadata": {},
   "outputs": [
    {
     "data": {
      "text/plain": [
       "array(['The Stop/Start system requires two batteries - a main battery and a supplemental battery.'],\n",
       "      dtype=object)"
      ]
     },
     "execution_count": 113,
     "metadata": {},
     "output_type": "execute_result"
    }
   ],
   "source": [
    "non_duplicated_non_hallucinated_answers[non_duplicated_non_hallucinated_answers.Question == 'How many batteries does the Stop/Start system need?'].Answer.values"
   ]
  },
  {
   "cell_type": "code",
   "execution_count": 54,
   "id": "c3589889",
   "metadata": {},
   "outputs": [],
   "source": [
    "not_hallucinated_questions = initial.query('`Label` == \"Not Hallucinated\" and `Answerable` == True').Question.unique()"
   ]
  },
  {
   "cell_type": "code",
   "execution_count": 2,
   "id": "5a9f305e",
   "metadata": {},
   "outputs": [],
   "source": [
    "delucion_qa = load_dataset('rungalileo/ragbench', 'delucionqa')"
   ]
  },
  {
   "cell_type": "code",
   "execution_count": 5,
   "id": "f83d557d",
   "metadata": {},
   "outputs": [],
   "source": [
    "delucion_qa_train = pd.DataFrame(delucion_qa['train'])"
   ]
  },
  {
   "cell_type": "code",
   "execution_count": 9,
   "id": "3a9c5278",
   "metadata": {},
   "outputs": [
    {
     "data": {
      "text/plain": [
       "Index(['id', 'question', 'documents', 'response', 'generation_model_name',\n",
       "       'annotating_model_name', 'dataset_name', 'documents_sentences',\n",
       "       'response_sentences', 'sentence_support_information',\n",
       "       'unsupported_response_sentence_keys', 'adherence_score',\n",
       "       'overall_supported_explanation', 'relevance_explanation',\n",
       "       'all_relevant_sentence_keys', 'all_utilized_sentence_keys',\n",
       "       'trulens_groundedness', 'trulens_context_relevance',\n",
       "       'ragas_faithfulness', 'ragas_context_relevance', 'gpt3_adherence',\n",
       "       'gpt3_context_relevance', 'gpt35_utilization', 'relevance_score',\n",
       "       'utilization_score', 'completeness_score'],\n",
       "      dtype='object')"
      ]
     },
     "execution_count": 9,
     "metadata": {},
     "output_type": "execute_result"
    }
   ],
   "source": [
    "delucion_qa_train.columns"
   ]
  },
  {
   "cell_type": "code",
   "execution_count": 17,
   "id": "01d8aaa9",
   "metadata": {},
   "outputs": [
    {
     "data": {
      "text/html": [
       "<div>\n",
       "<style scoped>\n",
       "    .dataframe tbody tr th:only-of-type {\n",
       "        vertical-align: middle;\n",
       "    }\n",
       "\n",
       "    .dataframe tbody tr th {\n",
       "        vertical-align: top;\n",
       "    }\n",
       "\n",
       "    .dataframe thead th {\n",
       "        text-align: right;\n",
       "    }\n",
       "</style>\n",
       "<table border=\"1\" class=\"dataframe\">\n",
       "  <thead>\n",
       "    <tr style=\"text-align: right;\">\n",
       "      <th></th>\n",
       "      <th>question</th>\n",
       "      <th>documents</th>\n",
       "      <th>response</th>\n",
       "      <th>relevance_score</th>\n",
       "      <th>utilization_score</th>\n",
       "      <th>completeness_score</th>\n",
       "    </tr>\n",
       "  </thead>\n",
       "  <tbody>\n",
       "    <tr>\n",
       "      <th>133</th>\n",
       "      <td>what should I pay attention to when the engine...</td>\n",
       "      <td>[ Engine Warm-Up Avoid full throttle operation...</td>\n",
       "      <td>When the engine is cold, you should avoid full...</td>\n",
       "      <td>1.000000</td>\n",
       "      <td>1.000000</td>\n",
       "      <td>1.000000</td>\n",
       "    </tr>\n",
       "    <tr>\n",
       "      <th>914</th>\n",
       "      <td>Can I mannually turn on and turn off the stop/...</td>\n",
       "      <td>[ To Manually Turn On The Stop/Start System Pu...</td>\n",
       "      <td>Yes, based on the context provided, you can ma...</td>\n",
       "      <td>1.000000</td>\n",
       "      <td>1.000000</td>\n",
       "      <td>1.000000</td>\n",
       "    </tr>\n",
       "    <tr>\n",
       "      <th>1366</th>\n",
       "      <td>is there an indicator light for cruise control?</td>\n",
       "      <td>[ Cruise control set indicator light — if equi...</td>\n",
       "      <td>Yes, based on the context provided, there are ...</td>\n",
       "      <td>1.000000</td>\n",
       "      <td>1.000000</td>\n",
       "      <td>1.000000</td>\n",
       "    </tr>\n",
       "    <tr>\n",
       "      <th>1335</th>\n",
       "      <td>when will the cruise indicator light be turned...</td>\n",
       "      <td>[ Cruise Control Ready Indicator Light — If Eq...</td>\n",
       "      <td>Based on the given context, the cruise indicat...</td>\n",
       "      <td>0.833333</td>\n",
       "      <td>1.000000</td>\n",
       "      <td>1.000000</td>\n",
       "    </tr>\n",
       "    <tr>\n",
       "      <th>1241</th>\n",
       "      <td>What should I do for off-road driving?</td>\n",
       "      <td>[ Off-Road Driving Tips,  The Basics Of Off-Ro...</td>\n",
       "      <td>Based on the provided context, here are the ke...</td>\n",
       "      <td>0.975610</td>\n",
       "      <td>0.951220</td>\n",
       "      <td>0.975000</td>\n",
       "    </tr>\n",
       "    <tr>\n",
       "      <th>1358</th>\n",
       "      <td>what does the N position do?</td>\n",
       "      <td>[ N (Neutral) N (Neutral) — This range disenga...</td>\n",
       "      <td>Based on the provided context, the N (Neutral)...</td>\n",
       "      <td>1.000000</td>\n",
       "      <td>0.928571</td>\n",
       "      <td>0.928571</td>\n",
       "    </tr>\n",
       "    <tr>\n",
       "      <th>843</th>\n",
       "      <td>any tips to drive safely?</td>\n",
       "      <td>[ Off-Road Driving Tips,  DRIVING TIPS Off-Roa...</td>\n",
       "      <td>Based on the given context, here are the key t...</td>\n",
       "      <td>0.923077</td>\n",
       "      <td>0.923077</td>\n",
       "      <td>1.000000</td>\n",
       "    </tr>\n",
       "    <tr>\n",
       "      <th>1025</th>\n",
       "      <td>Any instructions for the refueling process?</td>\n",
       "      <td>[ See the following steps for refueling: The v...</td>\n",
       "      <td>Based on the provided context, here are the in...</td>\n",
       "      <td>0.909091</td>\n",
       "      <td>0.909091</td>\n",
       "      <td>1.000000</td>\n",
       "    </tr>\n",
       "    <tr>\n",
       "      <th>1232</th>\n",
       "      <td>any tips or suggestions for refueling the car?</td>\n",
       "      <td>[ See the following steps for refueling: The v...</td>\n",
       "      <td>Based on the context provided, here are some t...</td>\n",
       "      <td>0.909091</td>\n",
       "      <td>0.909091</td>\n",
       "      <td>1.000000</td>\n",
       "    </tr>\n",
       "    <tr>\n",
       "      <th>1103</th>\n",
       "      <td>Any tips for Engine Oil Filter replacement?</td>\n",
       "      <td>[ Engine Oil Filter Selection A full-flow type...</td>\n",
       "      <td>Based on the provided context, here are some t...</td>\n",
       "      <td>0.882353</td>\n",
       "      <td>0.882353</td>\n",
       "      <td>0.933333</td>\n",
       "    </tr>\n",
       "    <tr>\n",
       "      <th>62</th>\n",
       "      <td>How can I find out whether a device has a roll...</td>\n",
       "      <td>[ Rolling Code Devices To determine if your de...</td>\n",
       "      <td>To determine if a device has a rolling code, y...</td>\n",
       "      <td>0.785714</td>\n",
       "      <td>0.857143</td>\n",
       "      <td>1.000000</td>\n",
       "    </tr>\n",
       "    <tr>\n",
       "      <th>111</th>\n",
       "      <td>What is the GVWR?</td>\n",
       "      <td>[ Gross Vehicle Weight Rating (GVWR) The GVWR ...</td>\n",
       "      <td>The Gross Vehicle Weight Rating (GVWR) is the ...</td>\n",
       "      <td>0.615385</td>\n",
       "      <td>0.846154</td>\n",
       "      <td>1.000000</td>\n",
       "    </tr>\n",
       "    <tr>\n",
       "      <th>535</th>\n",
       "      <td>What should I pay attention to when putting ca...</td>\n",
       "      <td>[ To avoid damage to the roof rack and vehicle...</td>\n",
       "      <td>When putting cargo on top of the roof, you sho...</td>\n",
       "      <td>0.833333</td>\n",
       "      <td>0.833333</td>\n",
       "      <td>1.000000</td>\n",
       "    </tr>\n",
       "    <tr>\n",
       "      <th>605</th>\n",
       "      <td>when will the cruise indicator light be turned...</td>\n",
       "      <td>[ Cruise Control Ready Indicator Light — If Eq...</td>\n",
       "      <td>The cruise indicator light will be turned on w...</td>\n",
       "      <td>1.000000</td>\n",
       "      <td>0.833333</td>\n",
       "      <td>0.833333</td>\n",
       "    </tr>\n",
       "    <tr>\n",
       "      <th>636</th>\n",
       "      <td>is there an indicator light for cruise control?</td>\n",
       "      <td>[ Cruise control set indicator light — if equi...</td>\n",
       "      <td>Yes, there is an indicator light for the cruis...</td>\n",
       "      <td>1.000000</td>\n",
       "      <td>0.833333</td>\n",
       "      <td>0.833333</td>\n",
       "    </tr>\n",
       "    <tr>\n",
       "      <th>1181</th>\n",
       "      <td>What is the ACC ON/OFF button for?</td>\n",
       "      <td>[ Push and release the Adaptive Cruise Control...</td>\n",
       "      <td>Based on the provided context, the Adaptive Cr...</td>\n",
       "      <td>0.909091</td>\n",
       "      <td>0.818182</td>\n",
       "      <td>0.900000</td>\n",
       "    </tr>\n",
       "    <tr>\n",
       "      <th>507</th>\n",
       "      <td>How to use the Child-Protection Door Lock system?</td>\n",
       "      <td>[ When the Child-Protection Door Lock system i...</td>\n",
       "      <td>To use the Child-Protection Door Lock system o...</td>\n",
       "      <td>0.896552</td>\n",
       "      <td>0.793103</td>\n",
       "      <td>0.807692</td>\n",
       "    </tr>\n",
       "    <tr>\n",
       "      <th>1418</th>\n",
       "      <td>can you tell me how to open the hood?</td>\n",
       "      <td>[ Raise the hood slightly, and place a hand pa...</td>\n",
       "      <td>Based on the provided context, here are the st...</td>\n",
       "      <td>0.545455</td>\n",
       "      <td>0.787879</td>\n",
       "      <td>1.000000</td>\n",
       "    </tr>\n",
       "    <tr>\n",
       "      <th>193</th>\n",
       "      <td>Any tips for hill climbing?</td>\n",
       "      <td>[ Hill Climbing Hill climbing requires good ju...</td>\n",
       "      <td>Some tips for hill climbing include:\\n- Always...</td>\n",
       "      <td>1.000000</td>\n",
       "      <td>0.757576</td>\n",
       "      <td>0.757576</td>\n",
       "    </tr>\n",
       "    <tr>\n",
       "      <th>526</th>\n",
       "      <td>What does the Lumbar Support Control knob do?</td>\n",
       "      <td>[ Lumbar Support The Lumbar Support Control kn...</td>\n",
       "      <td>The Lumbar Support Control knob adjusts the am...</td>\n",
       "      <td>0.750000</td>\n",
       "      <td>0.750000</td>\n",
       "      <td>1.000000</td>\n",
       "    </tr>\n",
       "    <tr>\n",
       "      <th>788</th>\n",
       "      <td>When will the 4WD LOW Indicator Light be turne...</td>\n",
       "      <td>[ 4WD Low Indicator Light — If Equipped This l...</td>\n",
       "      <td>According to the context provided, the 4WD Low...</td>\n",
       "      <td>0.750000</td>\n",
       "      <td>0.750000</td>\n",
       "      <td>1.000000</td>\n",
       "    </tr>\n",
       "    <tr>\n",
       "      <th>962</th>\n",
       "      <td>How to use the windshield wiper control lever?</td>\n",
       "      <td>[ Windshield Wiper Operation Rotate the end of...</td>\n",
       "      <td>Based on the provided context, here's how to u...</td>\n",
       "      <td>0.750000</td>\n",
       "      <td>0.750000</td>\n",
       "      <td>1.000000</td>\n",
       "    </tr>\n",
       "    <tr>\n",
       "      <th>1256</th>\n",
       "      <td>What does the Lumbar Support Control knob do?</td>\n",
       "      <td>[ Lumbar Support The Lumbar Support Control kn...</td>\n",
       "      <td>Based on the provided context, the Lumbar Supp...</td>\n",
       "      <td>0.750000</td>\n",
       "      <td>0.750000</td>\n",
       "      <td>1.000000</td>\n",
       "    </tr>\n",
       "    <tr>\n",
       "      <th>1281</th>\n",
       "      <td>What's function of the connection port in my car?</td>\n",
       "      <td>[ ONLY an authorized service technician should...</td>\n",
       "      <td>Based on the provided context, the main functi...</td>\n",
       "      <td>0.750000</td>\n",
       "      <td>0.750000</td>\n",
       "      <td>1.000000</td>\n",
       "    </tr>\n",
       "    <tr>\n",
       "      <th>1421</th>\n",
       "      <td>What does the payload mean?</td>\n",
       "      <td>[ Payload The payload of a vehicle is defined ...</td>\n",
       "      <td>Based on the provided context, the payload of ...</td>\n",
       "      <td>0.625000</td>\n",
       "      <td>0.750000</td>\n",
       "      <td>1.000000</td>\n",
       "    </tr>\n",
       "  </tbody>\n",
       "</table>\n",
       "</div>"
      ],
      "text/plain": [
       "                                               question  \\\n",
       "133   what should I pay attention to when the engine...   \n",
       "914   Can I mannually turn on and turn off the stop/...   \n",
       "1366    is there an indicator light for cruise control?   \n",
       "1335  when will the cruise indicator light be turned...   \n",
       "1241             What should I do for off-road driving?   \n",
       "1358                       what does the N position do?   \n",
       "843                           any tips to drive safely?   \n",
       "1025        Any instructions for the refueling process?   \n",
       "1232     any tips or suggestions for refueling the car?   \n",
       "1103        Any tips for Engine Oil Filter replacement?   \n",
       "62    How can I find out whether a device has a roll...   \n",
       "111                                   What is the GVWR?   \n",
       "535   What should I pay attention to when putting ca...   \n",
       "605   when will the cruise indicator light be turned...   \n",
       "636     is there an indicator light for cruise control?   \n",
       "1181                 What is the ACC ON/OFF button for?   \n",
       "507   How to use the Child-Protection Door Lock system?   \n",
       "1418              can you tell me how to open the hood?   \n",
       "193                         Any tips for hill climbing?   \n",
       "526       What does the Lumbar Support Control knob do?   \n",
       "788   When will the 4WD LOW Indicator Light be turne...   \n",
       "962      How to use the windshield wiper control lever?   \n",
       "1256      What does the Lumbar Support Control knob do?   \n",
       "1281  What's function of the connection port in my car?   \n",
       "1421                        What does the payload mean?   \n",
       "\n",
       "                                              documents  \\\n",
       "133   [ Engine Warm-Up Avoid full throttle operation...   \n",
       "914   [ To Manually Turn On The Stop/Start System Pu...   \n",
       "1366  [ Cruise control set indicator light — if equi...   \n",
       "1335  [ Cruise Control Ready Indicator Light — If Eq...   \n",
       "1241  [ Off-Road Driving Tips,  The Basics Of Off-Ro...   \n",
       "1358  [ N (Neutral) N (Neutral) — This range disenga...   \n",
       "843   [ Off-Road Driving Tips,  DRIVING TIPS Off-Roa...   \n",
       "1025  [ See the following steps for refueling: The v...   \n",
       "1232  [ See the following steps for refueling: The v...   \n",
       "1103  [ Engine Oil Filter Selection A full-flow type...   \n",
       "62    [ Rolling Code Devices To determine if your de...   \n",
       "111   [ Gross Vehicle Weight Rating (GVWR) The GVWR ...   \n",
       "535   [ To avoid damage to the roof rack and vehicle...   \n",
       "605   [ Cruise Control Ready Indicator Light — If Eq...   \n",
       "636   [ Cruise control set indicator light — if equi...   \n",
       "1181  [ Push and release the Adaptive Cruise Control...   \n",
       "507   [ When the Child-Protection Door Lock system i...   \n",
       "1418  [ Raise the hood slightly, and place a hand pa...   \n",
       "193   [ Hill Climbing Hill climbing requires good ju...   \n",
       "526   [ Lumbar Support The Lumbar Support Control kn...   \n",
       "788   [ 4WD Low Indicator Light — If Equipped This l...   \n",
       "962   [ Windshield Wiper Operation Rotate the end of...   \n",
       "1256  [ Lumbar Support The Lumbar Support Control kn...   \n",
       "1281  [ ONLY an authorized service technician should...   \n",
       "1421  [ Payload The payload of a vehicle is defined ...   \n",
       "\n",
       "                                               response  relevance_score  \\\n",
       "133   When the engine is cold, you should avoid full...         1.000000   \n",
       "914   Yes, based on the context provided, you can ma...         1.000000   \n",
       "1366  Yes, based on the context provided, there are ...         1.000000   \n",
       "1335  Based on the given context, the cruise indicat...         0.833333   \n",
       "1241  Based on the provided context, here are the ke...         0.975610   \n",
       "1358  Based on the provided context, the N (Neutral)...         1.000000   \n",
       "843   Based on the given context, here are the key t...         0.923077   \n",
       "1025  Based on the provided context, here are the in...         0.909091   \n",
       "1232  Based on the context provided, here are some t...         0.909091   \n",
       "1103  Based on the provided context, here are some t...         0.882353   \n",
       "62    To determine if a device has a rolling code, y...         0.785714   \n",
       "111   The Gross Vehicle Weight Rating (GVWR) is the ...         0.615385   \n",
       "535   When putting cargo on top of the roof, you sho...         0.833333   \n",
       "605   The cruise indicator light will be turned on w...         1.000000   \n",
       "636   Yes, there is an indicator light for the cruis...         1.000000   \n",
       "1181  Based on the provided context, the Adaptive Cr...         0.909091   \n",
       "507   To use the Child-Protection Door Lock system o...         0.896552   \n",
       "1418  Based on the provided context, here are the st...         0.545455   \n",
       "193   Some tips for hill climbing include:\\n- Always...         1.000000   \n",
       "526   The Lumbar Support Control knob adjusts the am...         0.750000   \n",
       "788   According to the context provided, the 4WD Low...         0.750000   \n",
       "962   Based on the provided context, here's how to u...         0.750000   \n",
       "1256  Based on the provided context, the Lumbar Supp...         0.750000   \n",
       "1281  Based on the provided context, the main functi...         0.750000   \n",
       "1421  Based on the provided context, the payload of ...         0.625000   \n",
       "\n",
       "      utilization_score  completeness_score  \n",
       "133            1.000000            1.000000  \n",
       "914            1.000000            1.000000  \n",
       "1366           1.000000            1.000000  \n",
       "1335           1.000000            1.000000  \n",
       "1241           0.951220            0.975000  \n",
       "1358           0.928571            0.928571  \n",
       "843            0.923077            1.000000  \n",
       "1025           0.909091            1.000000  \n",
       "1232           0.909091            1.000000  \n",
       "1103           0.882353            0.933333  \n",
       "62             0.857143            1.000000  \n",
       "111            0.846154            1.000000  \n",
       "535            0.833333            1.000000  \n",
       "605            0.833333            0.833333  \n",
       "636            0.833333            0.833333  \n",
       "1181           0.818182            0.900000  \n",
       "507            0.793103            0.807692  \n",
       "1418           0.787879            1.000000  \n",
       "193            0.757576            0.757576  \n",
       "526            0.750000            1.000000  \n",
       "788            0.750000            1.000000  \n",
       "962            0.750000            1.000000  \n",
       "1256           0.750000            1.000000  \n",
       "1281           0.750000            1.000000  \n",
       "1421           0.750000            1.000000  "
      ]
     },
     "execution_count": 17,
     "metadata": {},
     "output_type": "execute_result"
    }
   ],
   "source": [
    "delucion_qa_train[['question', 'documents', 'response', \n",
    "                   'relevance_score','utilization_score', \n",
    "                   'completeness_score']].sort_values(by=['utilization_score', 'completeness_score', 'relevance_score'], ascending=False)[:25]"
   ]
  },
  {
   "cell_type": "code",
   "execution_count": 14,
   "id": "f5682157",
   "metadata": {},
   "outputs": [
    {
     "data": {
      "text/plain": [
       "(count     1458\n",
       " unique       2\n",
       " top       True\n",
       " freq      1366\n",
       " Name: adherence_score, dtype: object,\n",
       " adherence_score\n",
       " True     1366\n",
       " False      92\n",
       " Name: count, dtype: int64)"
      ]
     },
     "execution_count": 14,
     "metadata": {},
     "output_type": "execute_result"
    }
   ],
   "source": [
    "delucion_qa_train.adherence_score.describe(), delucion_qa_train.adherence_score.value_counts()"
   ]
  },
  {
   "cell_type": "code",
   "execution_count": 24,
   "id": "727b9e99",
   "metadata": {},
   "outputs": [
    {
     "data": {
      "text/plain": [
       "['0c', '0e', '0f', '1e', '1g', '1o', '2d', '2f', '2g']"
      ]
     },
     "execution_count": 24,
     "metadata": {},
     "output_type": "execute_result"
    }
   ],
   "source": [
    "delucion_qa_train.query('`adherence_score` == True').all_relevant_sentence_keys[0]"
   ]
  },
  {
   "cell_type": "code",
   "execution_count": 59,
   "id": "cd7d5e7d",
   "metadata": {},
   "outputs": [],
   "source": [
    "not_hallucinated_questions = list(not_hallucinated_questions)"
   ]
  },
  {
   "cell_type": "code",
   "execution_count": 63,
   "id": "a3eaa0fa",
   "metadata": {},
   "outputs": [
    {
     "data": {
      "text/plain": [
       "adherence_score\n",
       "True     660\n",
       "False     37\n",
       "Name: count, dtype: int64"
      ]
     },
     "execution_count": 63,
     "metadata": {},
     "output_type": "execute_result"
    }
   ],
   "source": [
    "delucion_qa_train.query('`question` in @not_hallucinated_questions').adherence_score.value_counts()"
   ]
  },
  {
   "cell_type": "code",
   "execution_count": 110,
   "id": "7ec1aaac",
   "metadata": {},
   "outputs": [
    {
     "data": {
      "text/plain": [
       "('How many batteries does the Stop/Start system need?',\n",
       " 'The Stop/Start system needs two batteries.')"
      ]
     },
     "execution_count": 110,
     "metadata": {},
     "output_type": "execute_result"
    }
   ],
   "source": [
    "(delucion_qa_train.query('`question` in @not_hallucinated_questions').question[0],\n",
    "delucion_qa_train.query('`question` in @not_hallucinated_questions').response[0])"
   ]
  },
  {
   "cell_type": "code",
   "execution_count": 118,
   "id": "2dbbc992",
   "metadata": {},
   "outputs": [
    {
     "name": "stdout",
     "output_type": "stream",
     "text": [
      "[['Why do I have to apply the parking brake fully for parking?'\n",
      "  'You need to apply the parking brake fully when parking to guard against vehicle movement and possible injury or damage. This is important because failure to do so could cause the vehicle to roll and cause injury or damage. Additionally, fully applying the parking brake ensures that the transmission is locked in place, securing the vehicle against unwanted movement.'\n",
      "  0.1267605633802817 False]\n",
      " ['Why do I have to apply the parking brake fully for parking?'\n",
      "  'Based on the provided context, there are a few key reasons why you should fully apply the parking brake when parking your vehicle:\\n\\n1. To guard against vehicle movement and prevent possible injury or damage:\\n   - The passage states \"Always apply the parking brake fully when parked to guard against vehicle movement and possible injury or damage.\"\\n   - It warns that \"Never use the PARK position on an automatic transmission as a substitute for the parking brake. Always apply the parking brake fully when parked to guard against vehicle movement and possible injury or damage.\"\\n\\n2. To ensure the vehicle does not roll:\\n   - The passage emphasizes that you should \"Be sure the parking brake is fully disengaged before driving; failure to do so can lead to brake failure and a collision.\" \\n   - It also states \"Always fully apply the parking brake when leaving your vehicle or it may roll and cause damage or injury.\"\\n\\n3. To properly secure the vehicle:\\n   - The text notes that \"when the parking brake is applied with the ignition switch ON, the Brake Warning Light in the instrument cluster will illuminate.\"\\n   - It cautions that \"If the Brake Warning Light remains on with the parking brake released, a brake system malfunction is indicated. Have the brake system serviced by an authorized dealer immediately.\"\\n\\nIn summary, fully applying the parking brake is critical to preventing unintended vehicle movement, ensuring the vehicle is properly secured, and guarding against potential damage or injury. Failing to fully apply the parking brake can lead to dangerous situations.'\n",
      "  0.056338028169014086 True]]\n"
     ]
    }
   ],
   "source": [
    "for q in not_hallucinated_questions: \n",
    "    print(delucion_qa_train.query('`question` == @q')[['question', 'response', 'relevance_score', 'adherence_score']].values)\n",
    "    break"
   ]
  },
  {
   "cell_type": "code",
   "execution_count": 106,
   "id": "541f574e",
   "metadata": {},
   "outputs": [
    {
     "data": {
      "text/plain": [
       "427"
      ]
     },
     "execution_count": 106,
     "metadata": {},
     "output_type": "execute_result"
    }
   ],
   "source": [
    "len(not_hallucinated_questions)"
   ]
  },
  {
   "cell_type": "code",
   "execution_count": 104,
   "id": "26d225af",
   "metadata": {},
   "outputs": [
    {
     "data": {
      "text/plain": [
       "(730,)"
      ]
     },
     "execution_count": 104,
     "metadata": {},
     "output_type": "execute_result"
    }
   ],
   "source": [
    "delucion_qa_train.question.unique().shape"
   ]
  },
  {
   "cell_type": "markdown",
   "id": "6ba45918",
   "metadata": {},
   "source": [
    "### EManual\n",
    "\n",
    "*Abhilash Nandy, et. al. [Question Answering over Electronic Devices: A New Benchmark Dataset and a Multi-Task Learning based QA Framework](https://arxiv.org/abs/2109.05897). 13.09.2021*\n",
    "\n",
    "> **Document source**: TV manual\n",
    ">\n",
    "> **Question source**: annotator \n",
    ">\n",
    "> **Num docs**: 3 ??? В оригинале вроде много мануалов\n",
    ">\n",
    "> **Average doc length in tokens**: 165 \n",
    ">\n",
    "> **Train, dev, test size**: (1k, 132, 132)\n",
    "\n",
    "Github original - https://github.com/abhi1nandy2/EMNLP-2021-Findings/tree/main/data (есть вопросы, но самих мануалов нет, их надо парсить по ссылкам. Вопрос, насколько теперь ссылки рабочие)\n",
    "\n",
    "Manual corpus - https://drive.google.com/drive/folders/1-gX1DlmVodP6OVRJC3WBRZoGgxPuJvvt\n",
    "\n",
    "> The QA dataset of the **Samsung Smart TV manual** is used to sanitize a community-based question answering dataset described next. Questions are extracted from question answering forum (where well-formed answers are available) of the **different Samsung Smart TV models** sold on amazon. Annotators are asked to certify whether a question is answerable by solely using the E-Manual of the product. The dataset has a total of 3000 such questions, out of which 1028 are certified as answerable.\n",
    "\n",
    "<p style=\"color: blue;\">Судя по репозиторию, доки придется парсить. С другой стороны, может они были бы в корпусе. Но четко там не написано. Из rag-bench можно вытянуть порядка 500 уникальных вопросов с хорошими ответами</p>"
   ]
  },
  {
   "cell_type": "code",
   "execution_count": 120,
   "id": "457bef60",
   "metadata": {},
   "outputs": [
    {
     "data": {
      "application/vnd.jupyter.widget-view+json": {
       "model_id": "8652ab29989248b89b8758b927fcfd7b",
       "version_major": 2,
       "version_minor": 0
      },
      "text/plain": [
       "train-00000-of-00001.parquet:   0%|          | 0.00/1.70M [00:00<?, ?B/s]"
      ]
     },
     "metadata": {},
     "output_type": "display_data"
    },
    {
     "name": "stderr",
     "output_type": "stream",
     "text": [
      "c:\\Users\\anna-\\Jupyter\\quote-mipt\\.venv\\Lib\\site-packages\\huggingface_hub\\file_download.py:143: UserWarning: `huggingface_hub` cache-system uses symlinks by default to efficiently store duplicated files but your machine does not support them in C:\\Users\\anna-\\.cache\\huggingface\\hub\\datasets--rungalileo--ragbench. Caching files will still work but in a degraded version that might require more space on your disk. This warning can be disabled by setting the `HF_HUB_DISABLE_SYMLINKS_WARNING` environment variable. For more details, see https://huggingface.co/docs/huggingface_hub/how-to-cache#limitations.\n",
      "To support symlinks on Windows, you either need to activate Developer Mode or to run Python as an administrator. In order to activate developer mode, see this article: https://docs.microsoft.com/en-us/windows/apps/get-started/enable-your-device-for-development\n",
      "  warnings.warn(message)\n"
     ]
    },
    {
     "data": {
      "application/vnd.jupyter.widget-view+json": {
       "model_id": "88a4ee0dd0274f18a27476acbdda493c",
       "version_major": 2,
       "version_minor": 0
      },
      "text/plain": [
       "validation-00000-of-00001.parquet:   0%|          | 0.00/288k [00:00<?, ?B/s]"
      ]
     },
     "metadata": {},
     "output_type": "display_data"
    },
    {
     "data": {
      "application/vnd.jupyter.widget-view+json": {
       "model_id": "38626167825847d4b15c91483d111517",
       "version_major": 2,
       "version_minor": 0
      },
      "text/plain": [
       "test-00000-of-00001.parquet:   0%|          | 0.00/305k [00:00<?, ?B/s]"
      ]
     },
     "metadata": {},
     "output_type": "display_data"
    },
    {
     "data": {
      "application/vnd.jupyter.widget-view+json": {
       "model_id": "17fbb2073a8b4a88aae8ce00e57be629",
       "version_major": 2,
       "version_minor": 0
      },
      "text/plain": [
       "Generating train split:   0%|          | 0/1054 [00:00<?, ? examples/s]"
      ]
     },
     "metadata": {},
     "output_type": "display_data"
    },
    {
     "data": {
      "application/vnd.jupyter.widget-view+json": {
       "model_id": "edad5252dc0548548922f205e106f723",
       "version_major": 2,
       "version_minor": 0
      },
      "text/plain": [
       "Generating validation split:   0%|          | 0/132 [00:00<?, ? examples/s]"
      ]
     },
     "metadata": {},
     "output_type": "display_data"
    },
    {
     "data": {
      "application/vnd.jupyter.widget-view+json": {
       "model_id": "6c03055f8a1d46dead631162fbb0c67c",
       "version_major": 2,
       "version_minor": 0
      },
      "text/plain": [
       "Generating test split:   0%|          | 0/132 [00:00<?, ? examples/s]"
      ]
     },
     "metadata": {},
     "output_type": "display_data"
    }
   ],
   "source": [
    "emanual = load_dataset('rungalileo/ragbench', 'emanual')"
   ]
  },
  {
   "cell_type": "code",
   "execution_count": null,
   "id": "e9f58deb",
   "metadata": {},
   "outputs": [],
   "source": [
    "emanual_train = pd.DataFrame(emanual['train'])"
   ]
  },
  {
   "cell_type": "code",
   "execution_count": 124,
   "id": "bd89c4aa",
   "metadata": {},
   "outputs": [
    {
     "data": {
      "text/plain": [
       "adherence_score\n",
       "True     901\n",
       "False    153\n",
       "Name: count, dtype: int64"
      ]
     },
     "execution_count": 124,
     "metadata": {},
     "output_type": "execute_result"
    }
   ],
   "source": [
    "emanual_train.adherence_score.value_counts()"
   ]
  },
  {
   "cell_type": "code",
   "execution_count": 134,
   "id": "461955f1",
   "metadata": {},
   "outputs": [
    {
     "data": {
      "text/plain": [
       "(491,)"
      ]
     },
     "execution_count": 134,
     "metadata": {},
     "output_type": "execute_result"
    }
   ],
   "source": [
    "emanual_train.query('`adherence_score` == True').question.unique().shape"
   ]
  },
  {
   "cell_type": "markdown",
   "id": "a664b764",
   "metadata": {},
   "source": [
    "### TechQA\n",
    "\n",
    "*Vittorio Castelli, et. al. [The TechQA Dataset](https://arxiv.org/abs/1911.02984). 08.11.2019*\n",
    "\n",
    "> **Document source**: Tech notes\n",
    ">\n",
    "> **Question source**: tech forums\n",
    ">\n",
    "> **Num docs**: 5\n",
    ">\n",
    "> **Average doc length in tokens**: 1.8k \n",
    ">\n",
    "> **Train, dev, test size**: (1.2k, 302, 310)\n",
    "\n",
    "Original HF - https://huggingface.co/datasets/PrimeQA/TechQA/blob/main/TechQA.tar.gz (~3 Gb)\n",
    "\n",
    "Original GitHub - https://github.com/IBM/techqa"
   ]
  },
  {
   "cell_type": "code",
   "execution_count": 2,
   "id": "e13e78e3",
   "metadata": {},
   "outputs": [
    {
     "data": {
      "application/vnd.jupyter.widget-view+json": {
       "model_id": "51a955d9b78a411bb6ea8cde5ce081e0",
       "version_major": 2,
       "version_minor": 0
      },
      "text/plain": [
       "train-00000-of-00001.parquet:   0%|          | 0.00/22.5M [00:00<?, ?B/s]"
      ]
     },
     "metadata": {},
     "output_type": "display_data"
    },
    {
     "name": "stderr",
     "output_type": "stream",
     "text": [
      "c:\\Users\\anna-\\Jupyter\\quote-mipt\\.venv\\Lib\\site-packages\\huggingface_hub\\file_download.py:143: UserWarning: `huggingface_hub` cache-system uses symlinks by default to efficiently store duplicated files but your machine does not support them in C:\\Users\\anna-\\.cache\\huggingface\\hub\\datasets--rungalileo--ragbench. Caching files will still work but in a degraded version that might require more space on your disk. This warning can be disabled by setting the `HF_HUB_DISABLE_SYMLINKS_WARNING` environment variable. For more details, see https://huggingface.co/docs/huggingface_hub/how-to-cache#limitations.\n",
      "To support symlinks on Windows, you either need to activate Developer Mode or to run Python as an administrator. In order to activate developer mode, see this article: https://docs.microsoft.com/en-us/windows/apps/get-started/enable-your-device-for-development\n",
      "  warnings.warn(message)\n"
     ]
    },
    {
     "data": {
      "application/vnd.jupyter.widget-view+json": {
       "model_id": "ae7730ab9fe74d68bf41088c54a3b84a",
       "version_major": 2,
       "version_minor": 0
      },
      "text/plain": [
       "validation-00000-of-00001.parquet:   0%|          | 0.00/5.40M [00:00<?, ?B/s]"
      ]
     },
     "metadata": {},
     "output_type": "display_data"
    },
    {
     "data": {
      "application/vnd.jupyter.widget-view+json": {
       "model_id": "2331b728b6b94f1c83fc9396f9aec5ca",
       "version_major": 2,
       "version_minor": 0
      },
      "text/plain": [
       "test-00000-of-00001.parquet:   0%|          | 0.00/5.35M [00:00<?, ?B/s]"
      ]
     },
     "metadata": {},
     "output_type": "display_data"
    },
    {
     "data": {
      "application/vnd.jupyter.widget-view+json": {
       "model_id": "4ff8caf98e6b4a7da9dd7405ed598a6b",
       "version_major": 2,
       "version_minor": 0
      },
      "text/plain": [
       "Generating train split:   0%|          | 0/1192 [00:00<?, ? examples/s]"
      ]
     },
     "metadata": {},
     "output_type": "display_data"
    },
    {
     "data": {
      "application/vnd.jupyter.widget-view+json": {
       "model_id": "d9d7f5ba5f9442d7a9c4e4995f506dad",
       "version_major": 2,
       "version_minor": 0
      },
      "text/plain": [
       "Generating validation split:   0%|          | 0/304 [00:00<?, ? examples/s]"
      ]
     },
     "metadata": {},
     "output_type": "display_data"
    },
    {
     "data": {
      "application/vnd.jupyter.widget-view+json": {
       "model_id": "09b4c3eb66e246db8cead9db14b1d99c",
       "version_major": 2,
       "version_minor": 0
      },
      "text/plain": [
       "Generating test split:   0%|          | 0/314 [00:00<?, ? examples/s]"
      ]
     },
     "metadata": {},
     "output_type": "display_data"
    }
   ],
   "source": [
    "techqa = load_dataset('rungalileo/ragbench', 'techqa')"
   ]
  },
  {
   "cell_type": "code",
   "execution_count": 3,
   "id": "ec44c551",
   "metadata": {},
   "outputs": [],
   "source": [
    "techqa_train = pd.DataFrame(techqa['train'])"
   ]
  },
  {
   "cell_type": "code",
   "execution_count": 5,
   "id": "0bd846e5",
   "metadata": {},
   "outputs": [
    {
     "data": {
      "text/plain": [
       "adherence_score\n",
       "True     746\n",
       "False    446\n",
       "Name: count, dtype: int64"
      ]
     },
     "execution_count": 5,
     "metadata": {},
     "output_type": "execute_result"
    }
   ],
   "source": [
    "techqa_train.adherence_score.value_counts()"
   ]
  },
  {
   "cell_type": "code",
   "execution_count": 7,
   "id": "a5d919ca",
   "metadata": {},
   "outputs": [
    {
     "data": {
      "text/plain": [
       "(460,)"
      ]
     },
     "execution_count": 7,
     "metadata": {},
     "output_type": "execute_result"
    }
   ],
   "source": [
    "techqa_train.query('`adherence_score` == True').question.unique().shape"
   ]
  },
  {
   "cell_type": "code",
   "execution_count": 11,
   "id": "a47668b7",
   "metadata": {},
   "outputs": [
    {
     "data": {
      "text/html": [
       "<div>\n",
       "<style scoped>\n",
       "    .dataframe tbody tr th:only-of-type {\n",
       "        vertical-align: middle;\n",
       "    }\n",
       "\n",
       "    .dataframe tbody tr th {\n",
       "        vertical-align: top;\n",
       "    }\n",
       "\n",
       "    .dataframe thead th {\n",
       "        text-align: right;\n",
       "    }\n",
       "</style>\n",
       "<table border=\"1\" class=\"dataframe\">\n",
       "  <thead>\n",
       "    <tr style=\"text-align: right;\">\n",
       "      <th></th>\n",
       "      <th>id</th>\n",
       "      <th>question</th>\n",
       "      <th>documents</th>\n",
       "      <th>response</th>\n",
       "      <th>generation_model_name</th>\n",
       "      <th>annotating_model_name</th>\n",
       "      <th>dataset_name</th>\n",
       "      <th>documents_sentences</th>\n",
       "      <th>response_sentences</th>\n",
       "      <th>sentence_support_information</th>\n",
       "      <th>...</th>\n",
       "      <th>trulens_groundedness</th>\n",
       "      <th>trulens_context_relevance</th>\n",
       "      <th>ragas_faithfulness</th>\n",
       "      <th>ragas_context_relevance</th>\n",
       "      <th>gpt3_adherence</th>\n",
       "      <th>gpt3_context_relevance</th>\n",
       "      <th>gpt35_utilization</th>\n",
       "      <th>relevance_score</th>\n",
       "      <th>utilization_score</th>\n",
       "      <th>completeness_score</th>\n",
       "    </tr>\n",
       "  </thead>\n",
       "  <tbody>\n",
       "    <tr>\n",
       "      <th>510</th>\n",
       "      <td>techqa_TRAIN_Q331</td>\n",
       "      <td>mirandabarby I have purchased a grad pack of S...</td>\n",
       "      <td>[SPSS Support Acquisition Statistics Stats Gra...</td>\n",
       "      <td>To enter the authorization code to activate/li...</td>\n",
       "      <td>gpt-3.5-turbo-0125</td>\n",
       "      <td>gpt-4-turbo-2024-04-09</td>\n",
       "      <td>techqa_train</td>\n",
       "      <td>[[[0a, SPSS Support Acquisition Statistics Sta...</td>\n",
       "      <td>[[a, To enter the authorization code to activa...</td>\n",
       "      <td>[{'explanation': 'This statement is directly s...</td>\n",
       "      <td>...</td>\n",
       "      <td>None</td>\n",
       "      <td>None</td>\n",
       "      <td>None</td>\n",
       "      <td>None</td>\n",
       "      <td>None</td>\n",
       "      <td>None</td>\n",
       "      <td>None</td>\n",
       "      <td>0.263736</td>\n",
       "      <td>0.175824</td>\n",
       "      <td>0.666667</td>\n",
       "    </tr>\n",
       "    <tr>\n",
       "      <th>549</th>\n",
       "      <td>techqa_TRAIN_Q014</td>\n",
       "      <td>NMA agent installation failure \\n\\nHello, I'm ...</td>\n",
       "      <td>[ITM Virtual environments install NMA N4 unabl...</td>\n",
       "      <td>Yes, the installation of the NMA agent from th...</td>\n",
       "      <td>gpt-3.5-turbo-0125</td>\n",
       "      <td>gpt-4-turbo-2024-04-09</td>\n",
       "      <td>techqa_train</td>\n",
       "      <td>[[[0a, ITM Virtual environments install NMA N4...</td>\n",
       "      <td>[[a, Yes, the installation of the NMA agent fr...</td>\n",
       "      <td>[{'explanation': 'This statement is supported ...</td>\n",
       "      <td>...</td>\n",
       "      <td>None</td>\n",
       "      <td>None</td>\n",
       "      <td>None</td>\n",
       "      <td>None</td>\n",
       "      <td>None</td>\n",
       "      <td>None</td>\n",
       "      <td>None</td>\n",
       "      <td>0.200837</td>\n",
       "      <td>0.046025</td>\n",
       "      <td>0.229167</td>\n",
       "    </tr>\n",
       "    <tr>\n",
       "      <th>1129</th>\n",
       "      <td>techqa_TRAIN_Q595</td>\n",
       "      <td>How can I configure a DataPower MQ client to u...</td>\n",
       "      <td>[datapower; mq; websphere mq; ssl; mutual auth...</td>\n",
       "      <td>Based on the provided context, here are the st...</td>\n",
       "      <td>claude-3-haiku-20240307</td>\n",
       "      <td>gpt-4-turbo-2024-04-09</td>\n",
       "      <td>techqa_train</td>\n",
       "      <td>[[[0a, datapower; mq; websphere mq; ssl; mutua...</td>\n",
       "      <td>[[a, Based on the provided context, here are t...</td>\n",
       "      <td>[{'explanation': 'General introduction to the ...</td>\n",
       "      <td>...</td>\n",
       "      <td>None</td>\n",
       "      <td>None</td>\n",
       "      <td>None</td>\n",
       "      <td>None</td>\n",
       "      <td>None</td>\n",
       "      <td>None</td>\n",
       "      <td>None</td>\n",
       "      <td>0.200000</td>\n",
       "      <td>0.200000</td>\n",
       "      <td>0.987179</td>\n",
       "    </tr>\n",
       "    <tr>\n",
       "      <th>111</th>\n",
       "      <td>techqa_TRAIN_Q192</td>\n",
       "      <td>What are the recommended configuration setting...</td>\n",
       "      <td>[tsa; tsamp; db2; hadr; ha; policy; checker; d...</td>\n",
       "      <td>1. Ensure that the Windows cluster uses the bu...</td>\n",
       "      <td>gpt-3.5-turbo-0125</td>\n",
       "      <td>gpt-4-turbo-2024-04-09</td>\n",
       "      <td>techqa_train</td>\n",
       "      <td>[[[0a, tsa; tsamp; db2; hadr; ha; policy; chec...</td>\n",
       "      <td>[[a, 1. Ensure that the Windows cluster uses t...</td>\n",
       "      <td>[{'explanation': 'This is directly supported b...</td>\n",
       "      <td>...</td>\n",
       "      <td>None</td>\n",
       "      <td>None</td>\n",
       "      <td>None</td>\n",
       "      <td>None</td>\n",
       "      <td>None</td>\n",
       "      <td>None</td>\n",
       "      <td>None</td>\n",
       "      <td>0.200000</td>\n",
       "      <td>0.164286</td>\n",
       "      <td>0.428571</td>\n",
       "    </tr>\n",
       "    <tr>\n",
       "      <th>487</th>\n",
       "      <td>techqa_TRAIN_Q422</td>\n",
       "      <td>Help with Security Bulletin: Vulnerability in ...</td>\n",
       "      <td>[WTX security bulletin transformation extender...</td>\n",
       "      <td>You can find detailed information regarding th...</td>\n",
       "      <td>gpt-3.5-turbo-0125</td>\n",
       "      <td>gpt-4-turbo-2024-04-09</td>\n",
       "      <td>techqa_train</td>\n",
       "      <td>[[[0a, WTX security bulletin transformation ex...</td>\n",
       "      <td>[[a, You can find detailed information regardi...</td>\n",
       "      <td>[{'explanation': 'This statement is supported ...</td>\n",
       "      <td>...</td>\n",
       "      <td>None</td>\n",
       "      <td>None</td>\n",
       "      <td>None</td>\n",
       "      <td>None</td>\n",
       "      <td>None</td>\n",
       "      <td>None</td>\n",
       "      <td>None</td>\n",
       "      <td>0.196809</td>\n",
       "      <td>0.063830</td>\n",
       "      <td>0.324324</td>\n",
       "    </tr>\n",
       "    <tr>\n",
       "      <th>...</th>\n",
       "      <td>...</td>\n",
       "      <td>...</td>\n",
       "      <td>...</td>\n",
       "      <td>...</td>\n",
       "      <td>...</td>\n",
       "      <td>...</td>\n",
       "      <td>...</td>\n",
       "      <td>...</td>\n",
       "      <td>...</td>\n",
       "      <td>...</td>\n",
       "      <td>...</td>\n",
       "      <td>...</td>\n",
       "      <td>...</td>\n",
       "      <td>...</td>\n",
       "      <td>...</td>\n",
       "      <td>...</td>\n",
       "      <td>...</td>\n",
       "      <td>...</td>\n",
       "      <td>...</td>\n",
       "      <td>...</td>\n",
       "      <td>...</td>\n",
       "    </tr>\n",
       "    <tr>\n",
       "      <th>721</th>\n",
       "      <td>techqa_TRAIN_Q004</td>\n",
       "      <td>Help with Action required for IIB H.E. V9 &amp; WM...</td>\n",
       "      <td>[ FLASH (ALERT)\\n\\nABSTRACT\\n IBM Integration ...</td>\n",
       "      <td>Based on the provided context, there is no inf...</td>\n",
       "      <td>claude-3-haiku-20240307</td>\n",
       "      <td>gpt-4-turbo-2024-04-09</td>\n",
       "      <td>techqa_train</td>\n",
       "      <td>[[[0a,  FLASH (ALERT) ABSTRACT], [0b,  IBM Int...</td>\n",
       "      <td>[[a, Based on the provided context, there is n...</td>\n",
       "      <td>[{'explanation': 'This statement accurately re...</td>\n",
       "      <td>...</td>\n",
       "      <td>None</td>\n",
       "      <td>None</td>\n",
       "      <td>None</td>\n",
       "      <td>None</td>\n",
       "      <td>None</td>\n",
       "      <td>None</td>\n",
       "      <td>None</td>\n",
       "      <td>0.000000</td>\n",
       "      <td>0.000000</td>\n",
       "      <td>1.000000</td>\n",
       "    </tr>\n",
       "    <tr>\n",
       "      <th>727</th>\n",
       "      <td>techqa_TRAIN_Q532</td>\n",
       "      <td>Does Tivoli Monitoring NetApp monitoring agent...</td>\n",
       "      <td>[  A FIX IS AVAILABLE\\nIBM Tivoli Monitoring f...</td>\n",
       "      <td>There is no mention of a Tivoli Monitoring Net...</td>\n",
       "      <td>claude-3-haiku-20240307</td>\n",
       "      <td>gpt-4-turbo-2024-04-09</td>\n",
       "      <td>techqa_train</td>\n",
       "      <td>[[[0a,   A FIX IS AVAILABLE], [0b, IBM Tivoli ...</td>\n",
       "      <td>[[a, There is no mention of a Tivoli Monitorin...</td>\n",
       "      <td>[{'explanation': 'This statement is verified b...</td>\n",
       "      <td>...</td>\n",
       "      <td>None</td>\n",
       "      <td>None</td>\n",
       "      <td>None</td>\n",
       "      <td>None</td>\n",
       "      <td>None</td>\n",
       "      <td>None</td>\n",
       "      <td>None</td>\n",
       "      <td>0.000000</td>\n",
       "      <td>0.000000</td>\n",
       "      <td>1.000000</td>\n",
       "    </tr>\n",
       "    <tr>\n",
       "      <th>929</th>\n",
       "      <td>techqa_TRAIN_Q098</td>\n",
       "      <td>Restore JazzSM DASH login page to default imag...</td>\n",
       "      <td>[DASHL2; validate; validation; credentials; pr...</td>\n",
       "      <td>Based on the context provided, there is no inf...</td>\n",
       "      <td>claude-3-haiku-20240307</td>\n",
       "      <td>gpt-4-turbo-2024-04-09</td>\n",
       "      <td>techqa_train</td>\n",
       "      <td>[[[0a, DASHL2; validate; validation; credentia...</td>\n",
       "      <td>[[a, Based on the context provided, there is n...</td>\n",
       "      <td>[{'explanation': 'The response correctly notes...</td>\n",
       "      <td>...</td>\n",
       "      <td>None</td>\n",
       "      <td>None</td>\n",
       "      <td>None</td>\n",
       "      <td>None</td>\n",
       "      <td>None</td>\n",
       "      <td>None</td>\n",
       "      <td>None</td>\n",
       "      <td>0.000000</td>\n",
       "      <td>0.000000</td>\n",
       "      <td>1.000000</td>\n",
       "    </tr>\n",
       "    <tr>\n",
       "      <th>1141</th>\n",
       "      <td>techqa_TRAIN_Q058</td>\n",
       "      <td>Portal v8.5 install fails with INSTCONFFAILED ...</td>\n",
       "      <td>[TFIM; unparseable; date; exception; installat...</td>\n",
       "      <td>Based on the given context, the question does ...</td>\n",
       "      <td>claude-3-haiku-20240307</td>\n",
       "      <td>gpt-4-turbo-2024-04-09</td>\n",
       "      <td>techqa_train</td>\n",
       "      <td>[[[0a, TFIM; unparseable; date; exception; ins...</td>\n",
       "      <td>[[a, Based on the given context, the question ...</td>\n",
       "      <td>[{'explanation': 'This sentence correctly asse...</td>\n",
       "      <td>...</td>\n",
       "      <td>None</td>\n",
       "      <td>None</td>\n",
       "      <td>None</td>\n",
       "      <td>None</td>\n",
       "      <td>None</td>\n",
       "      <td>None</td>\n",
       "      <td>None</td>\n",
       "      <td>0.000000</td>\n",
       "      <td>0.000000</td>\n",
       "      <td>1.000000</td>\n",
       "    </tr>\n",
       "    <tr>\n",
       "      <th>1168</th>\n",
       "      <td>techqa_TRAIN_Q491</td>\n",
       "      <td>Security Bulletin: MQ Explorer directory creat...</td>\n",
       "      <td>[ SECURITY BULLETIN\\n\\nSUMMARY\\n IBM WebSphere...</td>\n",
       "      <td>Unfortunately, the provided context does not c...</td>\n",
       "      <td>claude-3-haiku-20240307</td>\n",
       "      <td>gpt-4-turbo-2024-04-09</td>\n",
       "      <td>techqa_train</td>\n",
       "      <td>[[[0a,  SECURITY BULLETIN SUMMARY], [0b,  IBM ...</td>\n",
       "      <td>[[a, Unfortunately, the provided context does ...</td>\n",
       "      <td>[{'explanation': 'The sentence accurately stat...</td>\n",
       "      <td>...</td>\n",
       "      <td>None</td>\n",
       "      <td>None</td>\n",
       "      <td>None</td>\n",
       "      <td>None</td>\n",
       "      <td>None</td>\n",
       "      <td>None</td>\n",
       "      <td>None</td>\n",
       "      <td>0.000000</td>\n",
       "      <td>0.000000</td>\n",
       "      <td>1.000000</td>\n",
       "    </tr>\n",
       "  </tbody>\n",
       "</table>\n",
       "<p>286 rows × 26 columns</p>\n",
       "</div>"
      ],
      "text/plain": [
       "                     id                                           question  \\\n",
       "510   techqa_TRAIN_Q331  mirandabarby I have purchased a grad pack of S...   \n",
       "549   techqa_TRAIN_Q014  NMA agent installation failure \\n\\nHello, I'm ...   \n",
       "1129  techqa_TRAIN_Q595  How can I configure a DataPower MQ client to u...   \n",
       "111   techqa_TRAIN_Q192  What are the recommended configuration setting...   \n",
       "487   techqa_TRAIN_Q422  Help with Security Bulletin: Vulnerability in ...   \n",
       "...                 ...                                                ...   \n",
       "721   techqa_TRAIN_Q004  Help with Action required for IIB H.E. V9 & WM...   \n",
       "727   techqa_TRAIN_Q532  Does Tivoli Monitoring NetApp monitoring agent...   \n",
       "929   techqa_TRAIN_Q098  Restore JazzSM DASH login page to default imag...   \n",
       "1141  techqa_TRAIN_Q058  Portal v8.5 install fails with INSTCONFFAILED ...   \n",
       "1168  techqa_TRAIN_Q491  Security Bulletin: MQ Explorer directory creat...   \n",
       "\n",
       "                                              documents  \\\n",
       "510   [SPSS Support Acquisition Statistics Stats Gra...   \n",
       "549   [ITM Virtual environments install NMA N4 unabl...   \n",
       "1129  [datapower; mq; websphere mq; ssl; mutual auth...   \n",
       "111   [tsa; tsamp; db2; hadr; ha; policy; checker; d...   \n",
       "487   [WTX security bulletin transformation extender...   \n",
       "...                                                 ...   \n",
       "721   [ FLASH (ALERT)\\n\\nABSTRACT\\n IBM Integration ...   \n",
       "727   [  A FIX IS AVAILABLE\\nIBM Tivoli Monitoring f...   \n",
       "929   [DASHL2; validate; validation; credentials; pr...   \n",
       "1141  [TFIM; unparseable; date; exception; installat...   \n",
       "1168  [ SECURITY BULLETIN\\n\\nSUMMARY\\n IBM WebSphere...   \n",
       "\n",
       "                                               response  \\\n",
       "510   To enter the authorization code to activate/li...   \n",
       "549   Yes, the installation of the NMA agent from th...   \n",
       "1129  Based on the provided context, here are the st...   \n",
       "111   1. Ensure that the Windows cluster uses the bu...   \n",
       "487   You can find detailed information regarding th...   \n",
       "...                                                 ...   \n",
       "721   Based on the provided context, there is no inf...   \n",
       "727   There is no mention of a Tivoli Monitoring Net...   \n",
       "929   Based on the context provided, there is no inf...   \n",
       "1141  Based on the given context, the question does ...   \n",
       "1168  Unfortunately, the provided context does not c...   \n",
       "\n",
       "        generation_model_name   annotating_model_name  dataset_name  \\\n",
       "510        gpt-3.5-turbo-0125  gpt-4-turbo-2024-04-09  techqa_train   \n",
       "549        gpt-3.5-turbo-0125  gpt-4-turbo-2024-04-09  techqa_train   \n",
       "1129  claude-3-haiku-20240307  gpt-4-turbo-2024-04-09  techqa_train   \n",
       "111        gpt-3.5-turbo-0125  gpt-4-turbo-2024-04-09  techqa_train   \n",
       "487        gpt-3.5-turbo-0125  gpt-4-turbo-2024-04-09  techqa_train   \n",
       "...                       ...                     ...           ...   \n",
       "721   claude-3-haiku-20240307  gpt-4-turbo-2024-04-09  techqa_train   \n",
       "727   claude-3-haiku-20240307  gpt-4-turbo-2024-04-09  techqa_train   \n",
       "929   claude-3-haiku-20240307  gpt-4-turbo-2024-04-09  techqa_train   \n",
       "1141  claude-3-haiku-20240307  gpt-4-turbo-2024-04-09  techqa_train   \n",
       "1168  claude-3-haiku-20240307  gpt-4-turbo-2024-04-09  techqa_train   \n",
       "\n",
       "                                    documents_sentences  \\\n",
       "510   [[[0a, SPSS Support Acquisition Statistics Sta...   \n",
       "549   [[[0a, ITM Virtual environments install NMA N4...   \n",
       "1129  [[[0a, datapower; mq; websphere mq; ssl; mutua...   \n",
       "111   [[[0a, tsa; tsamp; db2; hadr; ha; policy; chec...   \n",
       "487   [[[0a, WTX security bulletin transformation ex...   \n",
       "...                                                 ...   \n",
       "721   [[[0a,  FLASH (ALERT) ABSTRACT], [0b,  IBM Int...   \n",
       "727   [[[0a,   A FIX IS AVAILABLE], [0b, IBM Tivoli ...   \n",
       "929   [[[0a, DASHL2; validate; validation; credentia...   \n",
       "1141  [[[0a, TFIM; unparseable; date; exception; ins...   \n",
       "1168  [[[0a,  SECURITY BULLETIN SUMMARY], [0b,  IBM ...   \n",
       "\n",
       "                                     response_sentences  \\\n",
       "510   [[a, To enter the authorization code to activa...   \n",
       "549   [[a, Yes, the installation of the NMA agent fr...   \n",
       "1129  [[a, Based on the provided context, here are t...   \n",
       "111   [[a, 1. Ensure that the Windows cluster uses t...   \n",
       "487   [[a, You can find detailed information regardi...   \n",
       "...                                                 ...   \n",
       "721   [[a, Based on the provided context, there is n...   \n",
       "727   [[a, There is no mention of a Tivoli Monitorin...   \n",
       "929   [[a, Based on the context provided, there is n...   \n",
       "1141  [[a, Based on the given context, the question ...   \n",
       "1168  [[a, Unfortunately, the provided context does ...   \n",
       "\n",
       "                           sentence_support_information  ...  \\\n",
       "510   [{'explanation': 'This statement is directly s...  ...   \n",
       "549   [{'explanation': 'This statement is supported ...  ...   \n",
       "1129  [{'explanation': 'General introduction to the ...  ...   \n",
       "111   [{'explanation': 'This is directly supported b...  ...   \n",
       "487   [{'explanation': 'This statement is supported ...  ...   \n",
       "...                                                 ...  ...   \n",
       "721   [{'explanation': 'This statement accurately re...  ...   \n",
       "727   [{'explanation': 'This statement is verified b...  ...   \n",
       "929   [{'explanation': 'The response correctly notes...  ...   \n",
       "1141  [{'explanation': 'This sentence correctly asse...  ...   \n",
       "1168  [{'explanation': 'The sentence accurately stat...  ...   \n",
       "\n",
       "     trulens_groundedness  trulens_context_relevance ragas_faithfulness  \\\n",
       "510                  None                       None               None   \n",
       "549                  None                       None               None   \n",
       "1129                 None                       None               None   \n",
       "111                  None                       None               None   \n",
       "487                  None                       None               None   \n",
       "...                   ...                        ...                ...   \n",
       "721                  None                       None               None   \n",
       "727                  None                       None               None   \n",
       "929                  None                       None               None   \n",
       "1141                 None                       None               None   \n",
       "1168                 None                       None               None   \n",
       "\n",
       "     ragas_context_relevance gpt3_adherence gpt3_context_relevance  \\\n",
       "510                     None           None                   None   \n",
       "549                     None           None                   None   \n",
       "1129                    None           None                   None   \n",
       "111                     None           None                   None   \n",
       "487                     None           None                   None   \n",
       "...                      ...            ...                    ...   \n",
       "721                     None           None                   None   \n",
       "727                     None           None                   None   \n",
       "929                     None           None                   None   \n",
       "1141                    None           None                   None   \n",
       "1168                    None           None                   None   \n",
       "\n",
       "     gpt35_utilization relevance_score utilization_score completeness_score  \n",
       "510               None        0.263736          0.175824           0.666667  \n",
       "549               None        0.200837          0.046025           0.229167  \n",
       "1129              None        0.200000          0.200000           0.987179  \n",
       "111               None        0.200000          0.164286           0.428571  \n",
       "487               None        0.196809          0.063830           0.324324  \n",
       "...                ...             ...               ...                ...  \n",
       "721               None        0.000000          0.000000           1.000000  \n",
       "727               None        0.000000          0.000000           1.000000  \n",
       "929               None        0.000000          0.000000           1.000000  \n",
       "1141              None        0.000000          0.000000           1.000000  \n",
       "1168              None        0.000000          0.000000           1.000000  \n",
       "\n",
       "[286 rows x 26 columns]"
      ]
     },
     "execution_count": 11,
     "metadata": {},
     "output_type": "execute_result"
    }
   ],
   "source": [
    "techqa_train.query('`adherence_score` == True').sort_values(by=['relevance_score', 'utilization_score', 'completeness_score'], ascending=False)\\\n",
    "    [techqa_train.query('`adherence_score` == True').sort_values(by=['relevance_score', 'utilization_score', 'completeness_score'], ascending=False).question.duplicated()]"
   ]
  }
 ],
 "metadata": {
  "kernelspec": {
   "display_name": "retrieval-research-mipt",
   "language": "python",
   "name": "python3"
  },
  "language_info": {
   "codemirror_mode": {
    "name": "ipython",
    "version": 3
   },
   "file_extension": ".py",
   "mimetype": "text/x-python",
   "name": "python",
   "nbconvert_exporter": "python",
   "pygments_lexer": "ipython3",
   "version": "3.12.11"
  }
 },
 "nbformat": 4,
 "nbformat_minor": 5
}
